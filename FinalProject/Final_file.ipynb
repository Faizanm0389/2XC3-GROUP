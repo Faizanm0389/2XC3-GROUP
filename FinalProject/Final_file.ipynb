{
 "cells": [
  {
   "cell_type": "code",
   "execution_count": 29,
   "id": "9e943b83",
   "metadata": {},
   "outputs": [],
   "source": [
    "import math \n",
    "class MinHeap:\n",
    "    def __init__(self, data):\n",
    "        self.items = data\n",
    "        self.length = len(data)\n",
    "        self.build_heap()\n",
    "\n",
    "        # add a map based on input node\n",
    "        self.map = {}\n",
    "        for i in range(self.length):\n",
    "            self.map[self.items[i].value] = i\n",
    "\n",
    "    def find_left_index(self,index):\n",
    "        return 2 * (index + 1) - 1\n",
    "\n",
    "    def find_right_index(self,index):\n",
    "        return 2 * (index + 1)\n",
    "\n",
    "    def find_parent_index(self,index):\n",
    "        return (index + 1) // 2 - 1  \n",
    "    \n",
    "    def sink_down(self, index):\n",
    "        smallest_known_index = index\n",
    "\n",
    "        if self.find_left_index(index) < self.length and self.items[self.find_left_index(index)].key < self.items[index].key:\n",
    "            smallest_known_index = self.find_left_index(index)\n",
    "\n",
    "        if self.find_right_index(index) < self.length and self.items[self.find_right_index(index)].key < self.items[smallest_known_index].key:\n",
    "            smallest_known_index = self.find_right_index(index)\n",
    "\n",
    "        if smallest_known_index != index:\n",
    "            self.items[index], self.items[smallest_known_index] = self.items[smallest_known_index], self.items[index]\n",
    "            \n",
    "            # update map\n",
    "            self.map[self.items[index].value] = index\n",
    "            self.map[self.items[smallest_known_index].value] = smallest_known_index\n",
    "\n",
    "            # recursive call\n",
    "            self.sink_down(smallest_known_index)\n",
    "\n",
    "    def build_heap(self,):\n",
    "        for i in range(self.length // 2 - 1, -1, -1):\n",
    "            self.sink_down(i) \n",
    "\n",
    "    def insert(self, node):\n",
    "        if len(self.items) == self.length:\n",
    "            self.items.append(node)\n",
    "        else:\n",
    "            self.items[self.length] = node\n",
    "        self.map[node.value] = self.length\n",
    "        self.length += 1\n",
    "        self.swim_up(self.length - 1)\n",
    "\n",
    "    def insert_nodes(self, node_list):\n",
    "        for node in node_list:\n",
    "            self.insert(node)\n",
    "\n",
    "    def swim_up(self, index):\n",
    "        \n",
    "        while index > 0 and self.items[self.find_parent_index(index)].key < self.items[self.find_parent_index(index)].key:\n",
    "            #swap values\n",
    "            self.items[index], self.items[self.find_parent_index(index)] = self.items[self.find_parent_index(index)], self.items[index]\n",
    "            #update map\n",
    "            self.map[self.items[index].value] = index\n",
    "            self.map[self.items[self.find_parent_index(index)].value] = self.find_parent_index(index)\n",
    "            index = self.find_parent_index(index)\n",
    "\n",
    "    def get_min(self):\n",
    "        if len(self.items) > 0:\n",
    "            return self.items[0]\n",
    "\n",
    "    def extract_min(self,):\n",
    "        #xchange\n",
    "        self.items[0], self.items[self.length - 1] = self.items[self.length - 1], self.items[0]\n",
    "        #update map\n",
    "        self.map[self.items[self.length - 1].value] = self.length - 1\n",
    "        self.map[self.items[0].value] = 0\n",
    "\n",
    "        min_node = self.items[self.length - 1]\n",
    "        self.length -= 1\n",
    "        self.map.pop(min_node.value)\n",
    "        self.sink_down(0)\n",
    "        return min_node\n",
    "\n",
    "    def decrease_key(self, value, new_key):\n",
    "        if new_key >= self.items[self.map[value]].key:\n",
    "            return\n",
    "        index = self.map[value]\n",
    "        self.items[index].key = new_key\n",
    "        self.swim_up(index)\n",
    "\n",
    "    def get_element_from_value(self, value):\n",
    "        return self.items[self.map[value]]\n",
    "\n",
    "    def is_empty(self):\n",
    "        return self.length == 0\n",
    "    \n",
    "    def __str__(self):\n",
    "        height = math.ceil(math.log(self.length + 1, 2))\n",
    "        whitespace = 2 ** height + height\n",
    "        s = \"\"\n",
    "        for i in range(height):\n",
    "            for j in range(2 ** i - 1, min(2 ** (i + 1) - 1, self.length)):\n",
    "                s += \" \" * whitespace\n",
    "                s += str(self.items[j]) + \" \"\n",
    "            s += \"\\n\"\n",
    "            whitespace = whitespace // 2\n",
    "        return s\n",
    "class Item:\n",
    "    def __init__(self, value, key):\n",
    "        self.key = key\n",
    "        self.value = value\n",
    "    \n",
    "    def __str__(self):\n",
    "        return \"(\" + str(self.key) + \",\" + str(self.value) + \")\"\n",
    "    \n",
    "class WeightedGraph:\n",
    "    def __init__(self, nodes):\n",
    "        self.graph = [[] for _ in range(nodes)]\n",
    "        self.weights = {}\n",
    "\n",
    "    def add_edge(self, node1, node2, weight):\n",
    "        self.graph[node1].append(node2)\n",
    "        self.weights[(node1, node2)] = weight\n",
    "\n",
    "    def get_weights(self, node1, node2):\n",
    "        return self.weights.get((node1, node2))\n",
    "\n",
    "    def get_neighbors(self, node):\n",
    "        return self.graph[node]\n",
    "\n",
    "    def get_number_of_nodes(self):\n",
    "        return len(self.graph)\n",
    "\n",
    "    def get_nodes(self):\n",
    "        return [i for i in range(len(self.graph))]\n",
    "    \n",
    "    def get_edges(self):\n",
    "        edges = []\n",
    "        for node1 in range(len(self.graph)):\n",
    "            for node2 in self.graph[node1]:\n",
    "                weight = self.get_weights(node1, node2)\n",
    "                edges.append((node1, node2, weight))\n",
    "        return edges\n",
    "\n",
    "    def __iter__(self):\n",
    "        return iter(self.graph)\n"
   ]
  },
  {
   "cell_type": "markdown",
   "id": "c0171bc0",
   "metadata": {},
   "source": [
    "## 1.1\n"
   ]
  },
  {
   "cell_type": "code",
   "execution_count": 30,
   "id": "2e581b80",
   "metadata": {},
   "outputs": [],
   "source": [
    "def dijkstra(Graph,source):\n",
    "\n",
    "    visited = {}\n",
    "    distance = {}\n",
    "\n",
    "    # create empty queue\n",
    "    Q = MinHeap([])\n",
    "\n",
    "    for i in range(Graph.get_number_of_nodes()):\n",
    "\n",
    "        visited[i] = False\n",
    "        distance[i] = float(\"inf\")\n",
    "\n",
    "        # insert the nodes in the minheap\n",
    "        Q.insert(Item(i, float(\"inf\")))\n",
    "\n",
    "    print(Q)\n",
    "\n",
    "    # assign 0 to source \n",
    "    Q.decrease_key(source, 0)\n",
    "    distance[source] = 0\n",
    "\n",
    "    while not (Q.is_empty() ):\n",
    "        # get current node\n",
    "        current_node = Q.extract_min().value\n",
    "        visited[current_node] = True\n",
    "\n",
    "        for neighbour in Graph.graph[current_node]:\n",
    "            # get weight of current node\n",
    "            edge_weight = Graph.get_weights(current_node, neighbour)\n",
    "\n",
    "            temp = distance[current_node] + edge_weight\n",
    "\n",
    "            # not visited yet\n",
    "            if not visited[neighbour]:\n",
    "                if temp < distance[neighbour]:\n",
    "                    distance[neighbour] = temp\n",
    "                    Q.decrease_key(neighbour, temp)\n",
    "\n",
    "    return distance"
   ]
  },
  {
   "cell_type": "code",
   "execution_count": 31,
   "id": "414d7d74",
   "metadata": {},
   "outputs": [],
   "source": [
    "g= WeightedGraph(6)\n",
    "\n",
    "g.add_edge(0,1,15)\n",
    "g.add_edge(1,0,15)\n",
    "\n",
    "g.add_edge(1,2,10)\n",
    "g.add_edge(2,1,10)\n",
    "\n",
    "g.add_edge(2,3,5)\n",
    "g.add_edge(3,2,5)\n",
    "\n",
    "g.add_edge(1,3,20)\n",
    "g.add_edge(3,1,20)\n",
    "\n",
    "g.add_edge(2,4,30)\n",
    "g.add_edge(4,2,30)\n",
    "\n",
    "g.add_edge(4,3,25)\n",
    "g.add_edge(3,4,25)\n",
    "\n",
    "g.add_edge(3,5,40)\n",
    "g.add_edge(5,3,40)\n",
    "\n",
    "g.add_edge(4,5,15)\n",
    "g.add_edge(5,4,15)\n"
   ]
  },
  {
   "cell_type": "code",
   "execution_count": 32,
   "id": "ab946485",
   "metadata": {},
   "outputs": [
    {
     "name": "stdout",
     "output_type": "stream",
     "text": [
      "           (inf,0) \n",
      "     (inf,1)      (inf,2) \n",
      "  (inf,3)   (inf,4)   (inf,5) \n",
      "\n"
     ]
    },
    {
     "data": {
      "text/plain": [
       "{0: inf, 1: 0, 2: 10, 3: 15, 4: inf, 5: 55}"
      ]
     },
     "execution_count": 32,
     "metadata": {},
     "output_type": "execute_result"
    }
   ],
   "source": [
    "dijkstra(g,1)"
   ]
  },
  {
   "cell_type": "code",
   "execution_count": 33,
   "id": "b436aa91",
   "metadata": {},
   "outputs": [],
   "source": [
    "def dijkstra(Graph,source,destination):\n",
    "\n",
    "    visited = {}\n",
    "    distance = {}\n",
    "\n",
    "    # create empty queue\n",
    "    Q = MinHeap([])\n",
    "\n",
    "    for i in range(Graph.get_number_of_nodes()):\n",
    "\n",
    "        visited[i] = False\n",
    "        distance[i] = float(\"inf\")\n",
    "\n",
    "        # insert the nodes in the minheap\n",
    "        Q.insert(Item(i, float(\"inf\")))\n",
    "\n",
    "    print(Q)\n",
    "\n",
    "    # assign 0 to source \n",
    "    Q.decrease_key(source, 0)\n",
    "    distance[source] = 0\n",
    "\n",
    "    while not (Q.is_empty() or visited[destination]):\n",
    "        # get current node\n",
    "        current_node = Q.extract_min().value\n",
    "        visited[current_node] = True\n",
    "\n",
    "        for neighbour in Graph.graph[current_node]:\n",
    "            # get weight of current node\n",
    "            edge_weight = Graph.get_weights(current_node, neighbour)\n",
    "\n",
    "            temp = distance[current_node] + edge_weight\n",
    "\n",
    "            # not visited yet\n",
    "            if not visited[neighbour]:\n",
    "                if temp < distance[neighbour]:\n",
    "                    distance[neighbour] = temp\n",
    "                    Q.decrease_key(neighbour, temp)\n",
    "\n",
    "    return distance[destination]"
   ]
  },
  {
   "cell_type": "code",
   "execution_count": 34,
   "id": "ec15feae",
   "metadata": {},
   "outputs": [
    {
     "name": "stdout",
     "output_type": "stream",
     "text": [
      "           (inf,0) \n",
      "     (inf,1)      (inf,2) \n",
      "  (inf,3)   (inf,4)   (inf,5) \n",
      "\n"
     ]
    },
    {
     "data": {
      "text/plain": [
       "55"
      ]
     },
     "execution_count": 34,
     "metadata": {},
     "output_type": "execute_result"
    }
   ],
   "source": [
    "g= WeightedGraph(6)\n",
    "\n",
    "g.add_edge(0,1,15)\n",
    "g.add_edge(1,0,15)\n",
    "\n",
    "g.add_edge(1,2,10)\n",
    "g.add_edge(2,1,10)\n",
    "\n",
    "g.add_edge(2,3,5)\n",
    "g.add_edge(3,2,5)\n",
    "\n",
    "g.add_edge(1,3,20)\n",
    "g.add_edge(3,1,20)\n",
    "\n",
    "g.add_edge(2,4,30)\n",
    "g.add_edge(4,2,30)\n",
    "\n",
    "g.add_edge(4,3,25)\n",
    "g.add_edge(3,4,25)\n",
    "\n",
    "g.add_edge(3,5,40)\n",
    "g.add_edge(5,3,40)\n",
    "\n",
    "g.add_edge(4,5,15)\n",
    "g.add_edge(5,4,15)\n",
    "dijkstra(g,1,5)"
   ]
  },
  {
   "cell_type": "code",
   "execution_count": 35,
   "id": "a82b7723",
   "metadata": {},
   "outputs": [],
   "source": [
    "def dijkstra_relax(Graph, source, k):\n",
    "    visited = {}\n",
    "    distance = {}\n",
    "    relax_count = {}  \n",
    "    predecessor = {} \n",
    "\n",
    "    Q = MinHeap([])\n",
    "\n",
    "    for i in range(Graph.get_number_of_nodes()):\n",
    "        visited[i] = False\n",
    "        distance[i] = float(\"inf\")\n",
    "        relax_count[i] = 0 \n",
    "        predecessor[i] = None  \n",
    "\n",
    "        Q.insert(Item(i, 0))\n",
    "\n",
    "\n",
    "    Q.decrease_key(source, 0)\n",
    "    distance[source] = 0\n",
    "\n",
    "    while not Q.is_empty():\n",
    "        current_node = Q.extract_min().value\n",
    "        visited[current_node] = True\n",
    "\n",
    "        for neighbour in Graph.graph[current_node]:\n",
    "            edge_weight = Graph.get_weights(current_node, neighbour)\n",
    "            temp = distance[current_node] + edge_weight\n",
    "            if not visited[neighbour]:\n",
    "                if temp < distance[neighbour]:\n",
    "                    distance[neighbour] = temp\n",
    "                    Q.decrease_key(neighbour, temp)\n",
    "                    relax_count[neighbour] += 1  \n",
    "                    predecessor[neighbour] = current_node  \n",
    "        if relax_count[current_node] >= k:\n",
    "            break\n",
    "\n",
    "    def k_path(node, predecessor, path=[]):\n",
    "        if node is None:\n",
    "            return path\n",
    "        path.insert(0, node)\n",
    "        return k_path(predecessor[node], predecessor, path)\n",
    "    shortest_paths = {}\n",
    "    node = 0\n",
    "    while True:\n",
    "        shortest_paths[node] = k_path(node, predecessor)\n",
    "        node += 1\n",
    "        if node >= Graph.get_number_of_nodes():\n",
    "            break\n",
    "\n",
    "    return distance, shortest_paths\n"
   ]
  },
  {
   "cell_type": "markdown",
   "id": "446a8271",
   "metadata": {},
   "source": [
    "using dict visited, distance, relax_count, pred to track visited nodes, shortest dist, relax count and pred for each node. "
   ]
  },
  {
   "cell_type": "code",
   "execution_count": 36,
   "id": "15d04969",
   "metadata": {},
   "outputs": [
    {
     "name": "stdout",
     "output_type": "stream",
     "text": [
      "({0: 0, 1: 15, 2: inf, 3: inf, 4: inf, 5: inf}, {0: [5, 4, 3, 2, 0, 1, 0], 1: [5, 4, 3, 2, 0, 1, 0], 2: [5, 4, 3, 2, 0, 1, 0], 3: [5, 4, 3, 2, 0, 1, 0], 4: [5, 4, 3, 2, 0, 1, 0], 5: [5, 4, 3, 2, 0, 1, 0]})\n"
     ]
    }
   ],
   "source": [
    "# Create the weighted graph\n",
    "g = WeightedGraph(6)\n",
    "\n",
    "g.add_edge(0, 1, 15)\n",
    "g.add_edge(1, 0, 15)\n",
    "g.add_edge(1, 2, 10)\n",
    "g.add_edge(2, 1, 10)\n",
    "g.add_edge(2, 3, 5)\n",
    "g.add_edge(3, 2, 5)\n",
    "g.add_edge(1, 3, 20)\n",
    "g.add_edge(3, 1, 20)\n",
    "g.add_edge(2, 4, 30)\n",
    "g.add_edge(4, 2, 30)\n",
    "g.add_edge(4, 3, 25)\n",
    "g.add_edge(3, 4, 25)\n",
    "g.add_edge(3, 5, 40)\n",
    "g.add_edge(5, 3, 40)\n",
    "g.add_edge(4, 5, 15)\n",
    "g.add_edge(5, 4, 15)\n",
    "\n",
    "source_node = 0\n",
    "k = 2\n",
    "x = dijkstra_relax(g, source_node, k)\n",
    "print(x)\n"
   ]
  },
  {
   "cell_type": "markdown",
   "id": "0ae40092",
   "metadata": {},
   "source": [
    "## 1.2\n"
   ]
  },
  {
   "cell_type": "code",
   "execution_count": 37,
   "id": "c038114a",
   "metadata": {},
   "outputs": [],
   "source": [
    "\n",
    "#original bellman ford was inspired from https://www.geeksforgeeks.org/bellman-ford-algorithm-dp-23/ \n",
    "def bellamford_relax(graph, source, k):\n",
    "  \n",
    "    distance = {node: float('inf') for node in graph.get_nodes()}\n",
    "    predecessor = {node: None for node in graph.get_nodes()}\n",
    "    distance[source] = 0\n",
    "\n",
    "    for _ in range(k):\n",
    "        relaxed = False\n",
    "        for u, v, weight in graph.get_edges():\n",
    "            if distance[u] + weight < distance[v]:\n",
    "                distance[v] = distance[u] + weight\n",
    "                predecessor[v] = u\n",
    "                relaxed = True\n",
    "        else:\n",
    "            break\n",
    "\n",
    "        for u in graph.get_nodes():\n",
    "            for v in graph.get_neighbors(u):\n",
    "                weight = graph.get_weights(u, v)\n",
    "                if distance[u] + weight < distance[v]:\n",
    "                    return None\n",
    "\n",
    "    def k_path(node, predecessor, path=[]):\n",
    "        if node is None:\n",
    "            return path\n",
    "        path.insert(0, node)\n",
    "        return k_path(predecessor[node], predecessor, path)\n",
    "\n",
    "    shortest_paths = {}\n",
    "    for node in graph.get_nodes():\n",
    "        shortest_paths[node] = k_path(node, predecessor)\n",
    "\n",
    "    return distance, shortest_paths\n",
    "\n",
    "\n",
    "\n"
   ]
  },
  {
   "cell_type": "code",
   "execution_count": 38,
   "id": "3a65f8fd",
   "metadata": {},
   "outputs": [
    {
     "name": "stdout",
     "output_type": "stream",
     "text": [
      "({0: 0, 1: 15, 2: 25, 3: 30, 4: 55, 5: 70}, {0: [0, 1, 2, 3, 5, 0, 1, 2, 4, 0, 1, 2, 3, 0, 1, 2, 0, 1, 0], 1: [0, 1, 2, 3, 5, 0, 1, 2, 4, 0, 1, 2, 3, 0, 1, 2, 0, 1, 0], 2: [0, 1, 2, 3, 5, 0, 1, 2, 4, 0, 1, 2, 3, 0, 1, 2, 0, 1, 0], 3: [0, 1, 2, 3, 5, 0, 1, 2, 4, 0, 1, 2, 3, 0, 1, 2, 0, 1, 0], 4: [0, 1, 2, 3, 5, 0, 1, 2, 4, 0, 1, 2, 3, 0, 1, 2, 0, 1, 0], 5: [0, 1, 2, 3, 5, 0, 1, 2, 4, 0, 1, 2, 3, 0, 1, 2, 0, 1, 0]})\n"
     ]
    }
   ],
   "source": [
    "\n",
    "\n",
    "g = WeightedGraph(6)\n",
    "\n",
    "g.add_edge(0, 1, 15)\n",
    "g.add_edge(1, 0, 15)\n",
    "g.add_edge(1, 2, 10)\n",
    "g.add_edge(2, 1, 10)\n",
    "g.add_edge(2, 3, 5)\n",
    "g.add_edge(3, 2, 5)\n",
    "g.add_edge(1, 3, 20)\n",
    "g.add_edge(3, 1, 20)\n",
    "g.add_edge(2, 4, 30)\n",
    "g.add_edge(4, 2, 30)\n",
    "g.add_edge(4, 3, 25)\n",
    "g.add_edge(3, 4, 25)\n",
    "g.add_edge(3, 5, 40)\n",
    "g.add_edge(5, 3, 40)\n",
    "g.add_edge(4, 5, 15)\n",
    "g.add_edge(5, 4, 15)\n",
    "shortest_distance = bellamford_relax(g, 0, 2)\n",
    "print(shortest_distance)"
   ]
  },
  {
   "cell_type": "markdown",
   "id": "2524a994",
   "metadata": {},
   "source": [
    "## 1.3"
   ]
  },
  {
   "cell_type": "code",
   "execution_count": 39,
   "id": "7ed84f75",
   "metadata": {},
   "outputs": [
    {
     "name": "stdout",
     "output_type": "stream",
     "text": [
      "({0: 0, 1: 2, 2: inf, 3: inf, 4: 2}, {0: [0, 4, 3, 2, 0, 1, 0], 1: [0, 4, 3, 2, 0, 1, 0], 2: [0, 4, 3, 2, 0, 1, 0], 3: [0, 4, 3, 2, 0, 1, 0], 4: [0, 4, 3, 2, 0, 1, 0]})\n",
      "({0: 0, 1: 2, 2: 3, 3: 12, 4: 2}, {0: [0, 4, 0, 1, 3, 0, 1, 2, 0, 1, 0], 1: [0, 4, 0, 1, 3, 0, 1, 2, 0, 1, 0], 2: [0, 4, 0, 1, 3, 0, 1, 2, 0, 1, 0], 3: [0, 4, 0, 1, 3, 0, 1, 2, 0, 1, 0], 4: [0, 4, 0, 1, 3, 0, 1, 2, 0, 1, 0]})\n"
     ]
    }
   ],
   "source": [
    "import random\n",
    "\n",
    "def gen_graph(n):\n",
    "    graph = WeightedGraph(n)\n",
    "    \n",
    "    for n1 in range(n):\n",
    "        for n2 in range(n1 + 1, n):  \n",
    "            if random.random() < 0.5:  \n",
    "                weight = random.randint(1, 10) \n",
    "                graph.add_edge(n1, n2, weight)\n",
    "                graph.add_edge(n2, n1, weight)\n",
    "    \n",
    "    return graph\n",
    "\n",
    "\n",
    "x=gen_graph(5)\n",
    "print(dijkstra_relax(x,0,4))\n",
    "print(bellamford_relax(x,0,4))"
   ]
  },
  {
   "cell_type": "code",
   "execution_count": 40,
   "id": "049536c7",
   "metadata": {},
   "outputs": [
    {
     "data": {
      "image/png": "[encoded data removed]",
      "text/plain": [
       "<Figure size 640x480 with 1 Axes>"
      ]
     },
     "metadata": {},
     "output_type": "display_data"
    }
   ],
   "source": [
    "import timeit\n",
    "import matplotlib.pyplot as plt\n",
    "import numpy as np\n",
    "\n",
    "def experiment_graph_size():\n",
    "\n",
    "  bellman_time = []\n",
    "  dijkstra_time = []\n",
    "\n",
    "  for n in range(10, 1000, 50):\n",
    "    g1 = gen_graph(n)\n",
    "    g2 = g1  \n",
    "\n",
    "    # belman \n",
    "    start = timeit.default_timer()\n",
    "    bellamford_relax(g1, 0, n-1)\n",
    "    stop = timeit.default_timer()\n",
    "    bellman_time.append(stop - start)\n",
    "\n",
    "    # dijkst\n",
    "    start = timeit.default_timer()\n",
    "    dijkstra_relax(g2, 0, n-1)\n",
    "    stop = timeit.default_timer()\n",
    "    dijkstra_time.append(stop - start)\n",
    "\n",
    "\n",
    "  plt.plot(np.arange(10, 1000, 50), bellman_time, label='Bellman-Ford')\n",
    "  plt.plot(np.arange(10, 1000, 50), dijkstra_time, label='Dijkstra')\n",
    "  plt.xlabel('Size N (10-1000)')\n",
    "  plt.ylabel('Execution time')\n",
    "  plt.title('Experiment Graph Size ')\n",
    "  plt.legend()\n",
    "  plt.show()\n",
    "\n",
    "experiment_graph_size()"
   ]
  },
  {
   "cell_type": "code",
   "execution_count": 41,
   "id": "b64cffb4",
   "metadata": {},
   "outputs": [
    {
     "data": {
      "image/png": "[encoded data removed]",
      "text/plain": [
       "<Figure size 640x480 with 1 Axes>"
      ]
     },
     "metadata": {},
     "output_type": "display_data"
    }
   ],
   "source": [
    "def experiment_graph_density():\n",
    "    bellman_time = []\n",
    "    dijkstra_time = []\n",
    "\n",
    "    graph = WeightedGraph(5)\n",
    "    graph.add_edge(0, 1, 4)\n",
    "    graph.add_edge(0, 2, 2)\n",
    "\n",
    "    for n in range(10, 2000, 50):\n",
    "        random_node = random.randint(1, min(n-1, 4))  \n",
    "        weight = random.randint(5, 10)\n",
    "        graph.add_edge(0, random_node, weight)\n",
    "\n",
    "        #belllman\n",
    "        start = timeit.default_timer()\n",
    "        bellamford_relax(graph, 0, n-1)\n",
    "        stop = timeit.default_timer()\n",
    "        bellman_time.append(stop - start)\n",
    "\n",
    "        #  Dijkstra\n",
    "        start = timeit.default_timer()\n",
    "        dijkstra_relax(graph, 0, n-1)\n",
    "        stop = timeit.default_timer()\n",
    "        dijkstra_time.append(stop - start)\n",
    "\n",
    "    # Plot the results\n",
    "    plt.plot(np.arange(10, 2000, 50), bellman_time, label='Bellman-Ford')\n",
    "    plt.plot(np.arange(10, 2000, 50), dijkstra_time, label='Dijkstra')\n",
    "    plt.xlabel('Density from source node')\n",
    "    plt.ylabel('Execution time')\n",
    "    plt.title('Experiment Graph Density ')\n",
    "    plt.legend()\n",
    "    plt.show()\n",
    "\n",
    "experiment_graph_size()"
   ]
  },
  {
   "cell_type": "code",
   "execution_count": 43,
   "id": "97f16858",
   "metadata": {},
   "outputs": [
    {
     "data": {
      "image/png": "[encoded data removed]",
      "text/plain": [
       "<Figure size 640x480 with 1 Axes>"
      ]
     },
     "metadata": {},
     "output_type": "display_data"
    }
   ],
   "source": [
    "def experiment_graph_relaxation():\n",
    "    bellman_times = []\n",
    "    dijkstra_times = []\n",
    "    g = gen_graph(1000)\n",
    "\n",
    "    for k in range(1, 1000, 50):\n",
    "        # bellman\n",
    "        start = timeit.default_timer()\n",
    "        bellamford_relax(g, 0, k)\n",
    "        stop = timeit.default_timer()\n",
    "        bellman_times.append(stop - start)\n",
    "\n",
    "        #  Dijkstra\n",
    "        start = timeit.default_timer()\n",
    "        dijkstra_relax(g, 0, k)\n",
    "        stop = timeit.default_timer()\n",
    "        dijkstra_times.append(stop - start)\n",
    "\n",
    "    plt.plot(range(1, 1000, 50), bellman_times, label='Bellman-Ford')\n",
    "    plt.plot(range(1, 1000, 50), dijkstra_times, label='Dijkstra')\n",
    "    plt.xlabel('Relaxation limit from source node')\n",
    "    plt.ylabel('Execution time')\n",
    "    plt.title('Experiment Relaxation limit ')\n",
    "    plt.legend()\n",
    "    plt.show()\n",
    "\n",
    "experiment_graph_relaxation()"
   ]
  },
  {
   "cell_type": "markdown",
   "id": "cd07e04d",
   "metadata": {},
   "source": [
    "# 1"
   ]
  },
  {
   "cell_type": "code",
   "execution_count": null,
   "id": "c791052d",
   "metadata": {},
   "outputs": [],
   "source": []
  },
  {
   "cell_type": "markdown",
   "id": "d5b3d727",
   "metadata": {},
   "source": [
    "# 2"
   ]
  },
  {
   "cell_type": "code",
   "execution_count": null,
   "id": "98dbc7ec",
   "metadata": {},
   "outputs": [],
   "source": []
  },
  {
   "cell_type": "markdown",
   "id": "6a9a0fed",
   "metadata": {},
   "source": [
    "# 3"
   ]
  },
  {
   "cell_type": "code",
   "execution_count": null,
   "id": "8fb374c2",
   "metadata": {},
   "outputs": [],
   "source": []
  },
  {
   "cell_type": "markdown",
   "id": "176048bd",
   "metadata": {},
   "source": [
    "# 4"
   ]
  },
  {
   "cell_type": "code",
   "execution_count": null,
   "id": "c62172c1",
   "metadata": {},
   "outputs": [],
   "source": [
    "print(\"hi\")"
   ]
  }
 ],
 "metadata": {
  "kernelspec": {
   "display_name": "Python 3 (ipykernel)",
   "language": "python",
   "name": "python3"
  },
  "language_info": {
   "codemirror_mode": {
    "name": "ipython",
    "version": 3
   },
   "file_extension": ".py",
   "mimetype": "text/x-python",
   "name": "python",
   "nbconvert_exporter": "python",
   "pygments_lexer": "ipython3",
   "version": "3.12.0"
  }
 },
 "nbformat": 4,
 "nbformat_minor": 5
}
