{
 "cells": [
  {
   "cell_type": "code",
   "execution_count": 19,
   "id": "1cab5681",
   "metadata": {},
   "outputs": [],
   "source": [
    "import heapq\n",
    "\n",
    "class WeightedGraph:\n",
    "    def __init__(self, nodes):\n",
    "        self.graph = {}\n",
    "        self.weights = {}\n",
    "        for node in range(nodes):\n",
    "            self.graph[node] = []\n",
    "            self.weights[node] = {}\n",
    "\n",
    "    def has_edge(self, src, dst):\n",
    "        return dst in self.graph[src]\n",
    "\n",
    "    def add_edge(self, src, dst, weight):\n",
    "        if not self.has_edge(src, dst):\n",
    "            self.graph[src].append(dst)\n",
    "            self.graph[dst].append(src)\n",
    "            self.weights[(src, dst)] = weight\n",
    "            self.weights[(dst, src)] = weight\n",
    "\n",
    "    def get_graph(self):\n",
    "        return self.graph\n",
    "\n",
    "    def get_size(self):\n",
    "        return len(self.graph)  # Corrected method to get the number of nodes\n",
    "\n",
    "def initialize_distances_and_paths(graph, source):\n",
    "    distances = {}\n",
    "    paths = {}\n",
    "    for node in graph.graph:\n",
    "        distances[node] = float('inf')\n",
    "        paths[node] = []\n",
    "    distances[source] = 0\n",
    "    paths[source] = [source]\n",
    "    return distances, paths\n",
    "\n",
    "def initialize_relax_count(graph):\n",
    "    relax_count = {}\n",
    "    for node in graph.graph:\n",
    "        relax_count[node] = 0\n",
    "    return relax_count"
   ]
  },
  {
   "cell_type": "markdown",
   "id": "e9fc0bc4",
   "metadata": {},
   "source": [
    "### Part 1.1"
   ]
  },
  {
   "cell_type": "code",
   "execution_count": 20,
   "id": "795a586c",
   "metadata": {},
   "outputs": [],
   "source": [
    "def dijkstra_k_relaxations(g, s, k):\n",
    "    distances, paths = initialize_distances_and_paths(g, s)\n",
    "    relax_count = initialize_relax_count(g)\n",
    "    \n",
    "    min_heap = [(0, s)]\n",
    "\n",
    "    while min_heap:\n",
    "        current_distance, current_node = heapq.heappop(min_heap)\n",
    "\n",
    "        if relax_count[current_node] >= k:\n",
    "            continue\n",
    "\n",
    "        relax_count[current_node] += 1\n",
    "\n",
    "        for neighbor in g.graph[current_node]:\n",
    "            new_distance = current_distance + g.weights[(current_node, neighbor)]\n",
    "            if new_distance < distances[neighbor]:\n",
    "                distances[neighbor] = new_distance\n",
    "                paths[neighbor] = paths[current_node] + [neighbor]\n",
    "                heapq.heappush(min_heap, (new_distance, neighbor))\n",
    "\n",
    "    return {'distance': distances, 'path': paths}"
   ]
  },
  {
   "cell_type": "code",
   "execution_count": 21,
   "id": "8a99dfb6",
   "metadata": {},
   "outputs": [
    {
     "name": "stdout",
     "output_type": "stream",
     "text": [
      "{'distance': {0: 0, 1: 4, 2: 2, 3: 5, 4: 7}, 'path': {0: [0], 1: [0, 1], 2: [0, 2], 3: [0, 1, 3], 4: [0, 2, 4]}}\n"
     ]
    }
   ],
   "source": [
    "graph = WeightedGraph(5)\n",
    "graph.add_edge(0, 1, 4)\n",
    "graph.add_edge(0, 2, 2)\n",
    "graph.add_edge(1, 2, 3)\n",
    "graph.add_edge(1, 3, 1)\n",
    "graph.add_edge(2, 4, 5)\n",
    "graph.add_edge(3, 4, 7)\n",
    "\n",
    "result = dijkstra_k_relaxations(graph, 0, 2)  # Find shortest paths with at most 2 relaxations per node\n",
    "print(result)"
   ]
  },
  {
   "cell_type": "markdown",
   "id": "fa29783e",
   "metadata": {},
   "source": [
    "### Part 1.2"
   ]
  },
  {
   "cell_type": "code",
   "execution_count": 22,
   "id": "2f7d9978",
   "metadata": {},
   "outputs": [],
   "source": [
    "def bellman_ford_k_relaxations(g, s, k):\n",
    "    distances, paths = initialize_distances_and_paths(g, s)\n",
    "    relax_count = initialize_relax_count(g)\n",
    "\n",
    "    for _ in range(g.get_size() - 1):\n",
    "        for u in g.graph:\n",
    "            if relax_count[u] >= k:\n",
    "                continue\n",
    "            for v in g.graph[u]:\n",
    "                new_distance = distances[u] + g.weights[(u, v)]\n",
    "                if new_distance < distances[v]:\n",
    "                    distances[v] = new_distance\n",
    "                    paths[v] = paths[u] + [v]\n",
    "                    relax_count[v] += 1\n",
    "\n",
    "        for u in g.graph:\n",
    "            for v in g.graph[u]:\n",
    "                if distances[v] > distances[u] + g.weights[(u, v)]:\n",
    "                    return None\n",
    "\n",
    "    return {'distance': distances, 'path': paths}\n",
    "\n",
    "\n"
   ]
  },
  {
   "cell_type": "code",
   "execution_count": 23,
   "id": "e6bb665f",
   "metadata": {},
   "outputs": [
    {
     "name": "stdout",
     "output_type": "stream",
     "text": [
      "None\n",
      "{'distance': {0: 0, 1: 4, 2: 2, 3: 5, 4: 7}, 'path': {0: [0], 1: [0, 1], 2: [0, 2], 3: [0, 1, 3], 4: [0, 2, 4]}}\n"
     ]
    }
   ],
   "source": [
    "# Example usage\n",
    "graph = WeightedGraph(5)\n",
    "graph.add_edge(0, 1, 4)\n",
    "graph.add_edge(0, 2, 2)\n",
    "graph.add_edge(1, 2, 3)\n",
    "graph.add_edge(1, 3, 1)\n",
    "graph.add_edge(2, 4, 5)\n",
    "graph.add_edge(3, 4, -7)  # Introduce a negative cycle\n",
    "\n",
    "result = bellman_ford_k_relaxations(graph, 0, 2)  # Find shortest paths with at most 2 relaxations per node\n",
    "print(result)  # Output: None (negative cycle detected)\n",
    "\n",
    "graph = WeightedGraph(5)\n",
    "graph.add_edge(0, 1, 4)\n",
    "graph.add_edge(0, 2, 2)\n",
    "graph.add_edge(1, 2, 3)\n",
    "graph.add_edge(1, 3, 1)\n",
    "graph.add_edge(2, 4, 5)\n",
    "graph.add_edge(3, 4, 7)\n",
    "\n",
    "result = bellman_ford_k_relaxations(graph, 0, 3)\n",
    "print(result)"
   ]
  },
  {
   "cell_type": "code",
   "execution_count": null,
   "id": "b03b6bf3",
   "metadata": {},
   "outputs": [],
   "source": []
  }
 ],
 "metadata": {
  "kernelspec": {
   "display_name": "Python 3 (ipykernel)",
   "language": "python",
   "name": "python3"
  },
  "language_info": {
   "codemirror_mode": {
    "name": "ipython",
    "version": 3
   },
   "file_extension": ".py",
   "mimetype": "text/x-python",
   "name": "python",
   "nbconvert_exporter": "python",
   "pygments_lexer": "ipython3",
   "version": "3.11.5"
  }
 },
 "nbformat": 4,
 "nbformat_minor": 5
}
