{
 "cells": [
  {
   "cell_type": "markdown",
   "metadata": {},
   "source": [
    "# Computer Science 2XC3 - Graded Lab II"
   ]
  },
  {
   "cell_type": "markdown",
   "metadata": {},
   "source": [
    "In this day and age, it is very easy to generate automated solutions to any problem, not necessarily becuase of AI, but because of vast online communities that exist to find solution to popular/common problems. Whether or not that solution is correct and applicable to our context,  can be assessed only if we understand the concepts and can critically evaluate them. The goal of this lab is to motivate you to not only produce the correct solution to problems, but also to reflect about why, how and when your solution will likely succeed/fail. \n",
    "\n",
    "In this lab you will design experiments with sorting and search algorithms. Please read all instructions carefully. Seek the help of TA's if you need clarifications on the task. Do not hard code any results."
   ]
  },
  {
   "cell_type": "code",
   "execution_count": 293,
   "metadata": {},
   "outputs": [],
   "source": [
    "import random\n",
    "import time\n",
    "import timeit \n",
    "import matplotlib.pyplot as plt\n",
    "import numpy as np"
   ]
  },
  {
   "cell_type": "markdown",
   "metadata": {},
   "source": [
    "---\n",
    "---"
   ]
  },
  {
   "cell_type": "markdown",
   "metadata": {},
   "source": [
    "### Part A"
   ]
  },
  {
   "cell_type": "markdown",
   "metadata": {},
   "source": [
    "##### A1. Implement three classes with the following sorting algorithms:\n",
    "- Bubble Sort\n",
    "- Insertion Sort\n",
    "- Selection Sort"
   ]
  },
  {
   "cell_type": "code",
   "execution_count": 113,
   "metadata": {},
   "outputs": [],
   "source": [
    "class BubbleSort:\n",
    "    def __init__(self, items_to_sort):\n",
    "        self.items = items_to_sort\n",
    "        self.sorted_items=[]\n",
    "\n",
    "    def bubblesort(self):\n",
    "        n = len(self.items)\n",
    "        self.sorted_items = self.items.copy()\n",
    "\n",
    "        for i in range(n):\n",
    "            for j in range(0, n-i-1):#go through unsorted part of array with current element \n",
    "                if self.sorted_items[j] > self.sorted_items[j+1]:#swap condiiton \n",
    "                    self.sorted_items[j], self.sorted_items[j+1] = self.sorted_items[j+1], self.sorted_items[j]\n",
    "                    \n",
    "    def get_sorted(self,):\n",
    "        return self.sorted_items"
   ]
  },
  {
   "cell_type": "code",
   "execution_count": 114,
   "metadata": {},
   "outputs": [],
   "source": [
    "class InsertionSort:\n",
    "    def __init__(self, items_to_sort):\n",
    "        self.items = items_to_sort\n",
    "        self.sorted_items=[]\n",
    "\n",
    "    def insertionsort(self):\n",
    "        arr = self.items\n",
    "        n = len(arr)\n",
    "        for i in range(1, n):\n",
    "            current_element = arr[i]\n",
    "            index = i - 1\n",
    "            while index >= 0 and current_element < arr[index]:\n",
    "                arr[index + 1] = arr[index]\n",
    "                index -= 1\n",
    "            arr[index + 1] = current_element\n",
    "        self.sorted_items = arr.copy()\n",
    "\n",
    "    def get_sorted(self,):\n",
    "        return self.sorted_items"
   ]
  },
  {
   "cell_type": "code",
   "execution_count": 115,
   "metadata": {},
   "outputs": [],
   "source": [
    "class SelectionSort:\n",
    "    def __init__(self, items_to_sort):\n",
    "        self.items = items_to_sort\n",
    "        self.sorted_items=[]\n",
    "\n",
    "    def selectionsort(self):\n",
    "        arr = self.items\n",
    "        n = len(arr)\n",
    "\n",
    "        for i in range(n):\n",
    "            min_index = i\n",
    "            for j in range(i + 1, n):\n",
    "                if arr[j] < arr[min_index]:\n",
    "                    min_index = j\n",
    "            arr[i], arr[min_index] = arr[min_index], arr[i]\n",
    "        self.sorted_items = arr.copy()\n",
    "\n",
    "\n",
    "    def get_sorted(self,):\n",
    "        return self.sorted_items"
   ]
  },
  {
   "cell_type": "markdown",
   "metadata": {},
   "source": [
    "___"
   ]
  },
  {
   "cell_type": "markdown",
   "metadata": {},
   "source": [
    "##### A2. Compute the performance of above 3 algorithms on a single list of real numbers.\n",
    "\n",
    "First generate a custom random list using function <code> create_custom_list()</code>. Execute each of the above algorithm for N trials ( select N >= 75) on the list and plot the timing of each execution on a bar chart. Also calculate the average execution time for the entire batch of N trials ( you can either display it on the chart or simply <code> print()</code> it). For larger values of N, consider breaking N trials into mini batches of n executions and plotting execution times for each mini batch. For instance, if you select N=1000, to plot execution timings for 1000 trials, you may break them into mini batch of n=10 trials and display average of each mini batch. This will reduce clutter in your bar charts while still enabling you to perform extensive testing with higher N.\n",
    "\n",
    "Execute each of the above algorithm on the same set of integers. The outcome of your code should be 3 charts for each algorithm run on your list N times. Few utility functions are given below. You do not have to necessarily use the <code> draw_plot()</code> function. You can plot your timings using an excel sheet and paste the image of your timings here. Refer to [Markdown Guide](https://www.markdownguide.org/basic-syntax/) on how to add images in the jupyter notebook or ask your TA."
   ]
  },
  {
   "cell_type": "code",
   "execution_count": 116,
   "metadata": {},
   "outputs": [],
   "source": [
    "def create_custom_list(length, max_value, item=None, item_index=None):\n",
    "    random_list = [random.randint(0,max_value) for i in range(length)]\n",
    "    if item!= None:\n",
    "        random_list.insert(item_index,item)\n",
    "    return random_list"
   ]
  },
  {
   "cell_type": "code",
   "execution_count": 117,
   "metadata": {},
   "outputs": [],
   "source": [
    "def draw_plot(run_arr):\n",
    "    x = np.arange(0, len(run_arr),1)\n",
    "    fig=plt.figure(figsize=(20,8))\n",
    "    plt.bar(x,run_arr)\n",
    "    plt.axhline(np.mean(run_arr),color=\"red\",linestyle=\"--\",label=\"Avg\")\n",
    "    plt.xlabel(\"Iterations\")\n",
    "    plt.ylabel(\"Run time in ms order of 1e-6\")\n",
    "    plt.title(\"Run time for retrieval\")\n",
    "    plt.show()"
   ]
  },
  {
   "cell_type": "code",
   "execution_count": 118,
   "metadata": {},
   "outputs": [
    {
     "data": {
      "image/png": "[encoded data removed]",
      "text/plain": [
       "<Figure size 1440x576 with 1 Axes>"
      ]
     },
     "metadata": {
      "needs_background": "light"
     },
     "output_type": "display_data"
    }
   ],
   "source": [
    "### Bubble sort experiment code goes here\n",
    "\n",
    "def bubblesort_time(N):\n",
    "    my_list = create_custom_list(N,10000,500,999)\n",
    "    runs=20\n",
    "    run_times=[]\n",
    "    for _ in range(runs):\n",
    "        start= timeit.default_timer()\n",
    "        bubbleclass = BubbleSort(my_list)\n",
    "        bubbleclass.bubblesort()\n",
    "        stop=timeit.default_timer()\n",
    "        run_times.append(stop-start)\n",
    "    draw_plot(run_times)\n",
    "    \n",
    "bubblesort_time(1000)"
   ]
  },
  {
   "cell_type": "code",
   "execution_count": 246,
   "metadata": {},
   "outputs": [
    {
     "data": {
      "image/png": "[encoded data removed]",
      "text/plain": [
       "<Figure size 1440x576 with 1 Axes>"
      ]
     },
     "metadata": {
      "needs_background": "light"
     },
     "output_type": "display_data"
    }
   ],
   "source": [
    "### Insertion sort experiment code goes here\n",
    "\n",
    "def insertionsort_time(N):\n",
    "    my_list = create_custom_list(N,10000,500,999)\n",
    "    runs=20\n",
    "    run_times=[]\n",
    "    for _ in range(runs):\n",
    "        start= timeit.default_timer()\n",
    "        insertionclass = InsertionSort(my_list)\n",
    "        insertionclass.insertionsort()\n",
    "        stop=timeit.default_timer()\n",
    "        run_times.append(stop-start)\n",
    "    draw_plot(run_times)\n",
    "    \n",
    "insertionsort_time(1000)"
   ]
  },
  {
   "cell_type": "code",
   "execution_count": 120,
   "metadata": {},
   "outputs": [
    {
     "data": {
      "image/png": "[encoded data removed]",
      "text/plain": [
       "<Figure size 1440x576 with 1 Axes>"
      ]
     },
     "metadata": {
      "needs_background": "light"
     },
     "output_type": "display_data"
    }
   ],
   "source": [
    "### Selection sort experiment code goes here\n",
    "\n",
    "def selectionsort_time(N):\n",
    "    my_list = create_custom_list(N,10000,500,999)\n",
    "    runs=20\n",
    "    run_times=[]\n",
    "    for _ in range(runs):\n",
    "        start= timeit.default_timer()\n",
    "        selectionclass = SelectionSort(my_list)\n",
    "        selectionclass.selectionsort()\n",
    "        stop=timeit.default_timer()\n",
    "        run_times.append(stop-start)\n",
    "    draw_plot(run_times)\n",
    "selectionsort_time(1000)"
   ]
  },
  {
   "cell_type": "markdown",
   "metadata": {},
   "source": [
    "You would notice that certain sorting algorithms have better time complexity (or performance) than others. Write below a reflection of your observations. Can you confidently compare the performance across the 3 algorithms? Why does certain algorithm perform better than the other? What are the various factors impacting the best performing and the worst performing algorithm. Write a few sentences answering each of the above questions. Also describe any other observation you found important.\n",
    "\n",
    "**Reflection**:\n"
   ]
  },
  {
   "cell_type": "markdown",
   "metadata": {},
   "source": [
    "---"
   ]
  },
  {
   "cell_type": "markdown",
   "metadata": {},
   "source": [
    "##### A3. Compute the performance of above 3 algorithms on a different list sizes.\n",
    "\n",
    "The <code> create_custom_list()</code> helps you create lists of varying lengths and range of numbers. Plot a **line chart** that shows the performance of each algorithm on different list sizes ranging between 1 - 100,000 integers. If you think about this question, you are essentially plotting the time complexity on various list sizes. "
   ]
  },
  {
   "cell_type": "code",
   "execution_count": 121,
   "metadata": {},
   "outputs": [],
   "source": [
    "### Bubble sort experiment code goes here"
   ]
  },
  {
   "cell_type": "code",
   "execution_count": 122,
   "metadata": {},
   "outputs": [],
   "source": [
    "### Insertion sort experiment code goes here"
   ]
  },
  {
   "cell_type": "code",
   "execution_count": 123,
   "metadata": {},
   "outputs": [],
   "source": [
    "### Selection sort experiment code goes here"
   ]
  },
  {
   "cell_type": "markdown",
   "metadata": {},
   "source": [
    "Describe you results here. What did you observe when comparing the charts? Which algorithm was more performant and why?\n",
    "\n",
    "**Reflection** :"
   ]
  },
  {
   "cell_type": "markdown",
   "metadata": {},
   "source": [
    "---"
   ]
  },
  {
   "cell_type": "markdown",
   "metadata": {},
   "source": [
    "##### A4. Compute the performance of above 3 algorithms on a different list \"states\".\n",
    "\n",
    "Using the same above list generation function (or writing a function of your own), create two different lists states: \n",
    "\n",
    "- A state where the list is **near** sorted.\n",
    "- A state where the list is completely unsorted.\n",
    "\n",
    "HINTS: \n",
    "\n",
    "- You can implement a \"controlled\" Quicksort algorithm for such a function. While you can find many implementations of such a function online, significant number of those solutions originate from this psuedocode [Generating Sorted Lists of Random Numbers](https://dl.acm.org/doi/pdf/10.1145/355900.355907). \n",
    "\n",
    "- You can modify the list generation code given above to create the above list examples.\n",
    "\n",
    "Compare the performance of all 3 sorting algorithms on these two lists. Plot their performance on bar chart and display them here. "
   ]
  },
  {
   "cell_type": "code",
   "execution_count": 11,
   "metadata": {},
   "outputs": [],
   "source": [
    "### Bubble sort experiment code goes here"
   ]
  },
  {
   "cell_type": "code",
   "execution_count": 12,
   "metadata": {},
   "outputs": [],
   "source": [
    "### Selection sort experiment code goes here"
   ]
  },
  {
   "cell_type": "code",
   "execution_count": 13,
   "metadata": {},
   "outputs": [],
   "source": [
    "### Insertion sort experiment code goes here"
   ]
  },
  {
   "cell_type": "markdown",
   "metadata": {},
   "source": [
    "Describe you observations here. Which algorithm performs best / worst for sorted/near sorted lists and why? Does the performance vary significantly? Describe which runs times were higher and why do you think that is? You woul\n",
    "\n",
    "**Reflection** :"
   ]
  },
  {
   "cell_type": "markdown",
   "metadata": {},
   "source": [
    "---\n",
    "---"
   ]
  },
  {
   "cell_type": "markdown",
   "metadata": {},
   "source": [
    "### Part B"
   ]
  },
  {
   "cell_type": "markdown",
   "metadata": {},
   "source": [
    "In the class, we discussed three implementations of Binary Search. "
   ]
  },
  {
   "cell_type": "code",
   "execution_count": 294,
   "metadata": {},
   "outputs": [],
   "source": [
    "def binary_search_1(item_list, to_find):\n",
    "    lower=0\n",
    "    upper=len(item_list)-1\n",
    "    while lower < upper:\n",
    "        mid = (lower+upper)//2\n",
    "        if item_list[mid] == to_find:\n",
    "            return True\n",
    "        if item_list[mid] < to_find:\n",
    "            lower = mid+1\n",
    "        else:\n",
    "            upper=mid\n",
    "    return item_list[lower]==to_find"
   ]
  },
  {
   "cell_type": "code",
   "execution_count": 295,
   "metadata": {},
   "outputs": [],
   "source": [
    "def binary_search_2(item_list, to_find):\n",
    "    lower=0\n",
    "    upper=len(item_list)-1\n",
    "    while lower <= upper:\n",
    "        mid = (lower+upper)//2\n",
    "        if item_list[mid] == to_find:\n",
    "            return True\n",
    "        if item_list[mid] < to_find:\n",
    "            lower = mid+1\n",
    "        else:\n",
    "            upper=mid-1\n",
    "    return item_list[lower]==to_find"
   ]
  },
  {
   "cell_type": "code",
   "execution_count": 296,
   "metadata": {},
   "outputs": [],
   "source": [
    "def binary_search_3(item_list, to_find):\n",
    "    left=0\n",
    "    right=len(item_list)-1\n",
    "    while left != right:\n",
    "        mid = (left+right)//2\n",
    "        if item_list[mid] < to_find:\n",
    "            left = mid+1\n",
    "        elif item_list[mid] > to_find:\n",
    "            right = mid\n",
    "        else:\n",
    "            return True\n",
    "    return item_list[left]==to_find"
   ]
  },
  {
   "cell_type": "markdown",
   "metadata": {},
   "source": [
    "Compare the performance of each implementation (or variation) with two lists:\n",
    "\n",
    "1. List is odd numbered (minimum 1000 integers)\n",
    "1. List is even numbered (minimum 1000 integers)\n",
    "\n",
    "Run the above experiments when the item to be found is:\n",
    "1. At the begining of the list.\n",
    "1. Towards the end of the list.\n",
    "1. Right at the middle of the list.\n",
    "\n",
    "The above three combinations would yield 3X2 experiments. Provide detailed outline of the experiments, plots, and a brief description of the observations in the reflections section."
   ]
  },
  {
   "cell_type": "code",
   "execution_count": 299,
   "metadata": {},
   "outputs": [],
   "source": [
    "def show_plot(label,run_arr):\n",
    "    x = np.arange(0, len(run_arr),1)\n",
    "    fig=plt.figure(figsize=(20,8))\n",
    "    plt.bar(x,run_arr)\n",
    "    plt.xticks(x, label, rotation ='vertical')\n",
    "    plt.axhline(np.mean(run_arr), color=\"red\", linestyle=\"--\", label=\"Avg\")\n",
    "    plt.title(\"Run time for binary search cases\")\n",
    "    plt.xlabel(\"Binary Search cases\")\n",
    "    plt.ylabel(\"Run time in ms order of 1e-6\")\n",
    "    plt.show()"
   ]
  },
  {
   "cell_type": "code",
   "execution_count": 315,
   "metadata": {},
   "outputs": [
    {
     "data": {
      "image/png": "[encoded data removed]",
      "text/plain": [
       "<Figure size 1440x576 with 1 Axes>"
      ]
     },
     "metadata": {
      "needs_background": "light"
     },
     "output_type": "display_data"
    },
    {
     "data": {
      "image/png": "[encoded data removed]",
      "text/plain": [
       "<Figure size 1440x576 with 1 Axes>"
      ]
     },
     "metadata": {
      "needs_background": "light"
     },
     "output_type": "display_data"
    }
   ],
   "source": [
    "## you experiment code goes here\n",
    "\n",
    "def generateOdd(n):\n",
    "    if n % 2 == 0:\n",
    "        n += 1\n",
    "    return sorted([random.randint(1, 10000) for _ in range(n)])\n",
    "\n",
    "def generateEven(n):\n",
    "    if n % 2 == 1:\n",
    "        n += 1 \n",
    "    return sorted([random.randint(1, 100000) for _ in range(n)])\n",
    "\n",
    "def measureTime(binarySearch, item_list, to_find):\n",
    "    runs=75\n",
    "    sum = 0\n",
    "    for _ in range(runs):\n",
    "        start = timeit.default_timer()\n",
    "        binarySearch(item_list, to_find)\n",
    "        stop=timeit.default_timer()\n",
    "        sum += stop-start\n",
    "    \n",
    "    return sum/runs\n",
    "\n",
    "\n",
    "list_size = 1000  #Should be over 1000\n",
    "list=[random.randint(1, 100000) for _ in range(list_size)]\n",
    "list.sort()\n",
    "odd_even = {\"Odd\" : generateOdd(list_size), \"Even\" :generateEven(list_size)}\n",
    "pos= {\"Beginning\": 0, \"End\": len(list) - 1, \"Middle\": list_size // 2}\n",
    "binarySearch = [binary_search_1, binary_search_2, binary_search_3]\n",
    "run_times_oddeven=[]\n",
    "run_times_pos=[]\n",
    "labelOddEven=[]\n",
    "labelPos=[]\n",
    "\n",
    "for func in binarySearch:\n",
    "    for i in odd_even:\n",
    "        labelOddEven.append(func.__name__[-1] + \" \" + i)\n",
    "        l=odd_even.get(i)\n",
    "        run_time = measureTime(func, l, l[random.randint(0,len(l))])\n",
    "        run_times_oddeven.append(run_time)\n",
    "  \n",
    "for func in binarySearch:\n",
    "    for i in pos:\n",
    "        labelPos.append(func.__name__[-1] + \" \" + i)\n",
    "        run_time = measureTime(func, list, list[pos.get(i)])\n",
    "        run_times_pos.append(run_time)\n",
    "\n",
    "show_plot(labelOddEven,run_times_oddeven)\n",
    "show_plot(labelPos,run_times_pos)"
   ]
  },
  {
   "cell_type": "markdown",
   "metadata": {},
   "source": [
    "**Reflection**:"
   ]
  },
  {
   "cell_type": "markdown",
   "metadata": {},
   "source": [
    "---\n",
    "First Bar Graph :\n",
    "Each bar represents the average time taken for 75 runs (the number of runs can be adjusted) in each case:\n",
    "1. The first bar displays the average time taken when using `binary_search_1` on an odd-length list.\n",
    "2. The second bar displays the average time taken when using `binary_search_1` on an even-length list.\n",
    "3. The third bar displays the average time taken when using `binary_search_2` on an odd-length list.\n",
    "4. The fourth bar displays the average time taken when using `binary_search_2` on an even-length list.\n",
    "5. The fifth bar displays the average time taken when using `binary_search_3` on an odd-length list.\n",
    "6. The sixth bar displays the average time taken when using `binary_search_3` on an even-length list.\n",
    "\n",
    "    Experiment Outline :\n",
    "        1. Generate Lists: Use the functions 'generateOdd' and 'generateEven' to create sorted lists of odd and even lengths containing at least 1000 integers each.\n",
    "        2. Measure Execution Time: Employ the 'measureTime' function to obtain the average runtime in multiple runs (75 times in this experiment but can be adjusted) for each case.\n",
    "        3. Data Collection: Store the average run times for each case in a list named 'run_times_oddeven'.\n",
    "\n",
    "    Plotting Outline :\n",
    "        1. Preparing Data: Use the list 'run_times_oddeven' to store the corresponding run times with a list of labels named 'labelOddEven,' indicating which binary search implementation is used (by number) and whether the length is even or odd.\n",
    "        2. Plotting Function: Implement a function 'show_plot' that takes labels and run times as input and generates a bar plot.\n",
    "        3. Plotting Execution: Iterate through the binary search functions and list types to collect data and call the 'show_plot' function.\n",
    "\n",
    "Second Bar Graph :\n",
    "Each bar represents the average time taken for 75 runs (the number of runs can be adjusted) in each case:\n",
    "1. The first bar shows the average time taken when using `binary_search_1` to find the item at the beginning of the list.\n",
    "2. The second bar shows the average time taken when using `binary_search_1` to find the item at the end of the list.\n",
    "3. The third bar shows the average time taken when using `binary_search_1` to find the item in the middle of the list.\n",
    "4. The fourth bar shows the average time taken when using `binary_search_2` to find the item at the beginning of the list.\n",
    "5. The fifth bar shows the average time taken when using `binary_search_2` to find the item at the end of the list.\n",
    "6. The sixth bar shows the average time taken when using `binary_search_2` to find the item in the middle of the list.\n",
    "7. The seventh bar shows the average time taken when using `binary_search_3` to find the item at the beginning of the list.\n",
    "8. The eighth bar shows the average time taken when using `binary_search_3` to find the item at the end of the list.\n",
    "9. The ninth bar shows the average time taken when using `binary_search_3` to find the item in the middle of the list.\n",
    "\n",
    "    Experiment Outline :\n",
    "        1. Generate Lists: Create a sorted list named 'list' using random to generate a list of random integers of length 1000 (length can be adjusted by changing the variable 'list_size').\n",
    "        2. Measure Execution Time: Use the 'measureTime' function to obtain the average runtime in multiple runs (75 times in this experiment but can be adjusted) for each case.\n",
    "        3. Data Collection: Store the average run times for each case in a list named 'run_times_pos'.\n",
    "\n",
    "    Plotting Outline :\n",
    "        1. Preparing Data: Use the list 'run_times_pos' to store the corresponding run times with a list of labels named 'labelPos,' indicating which binary search implementation is used (by number) and the position of the item being searched.\n",
    "        2. Plotting Function: Implement a function 'show_plot' that takes labels and run times as input and generates a bar plot.\n",
    "        3. Plotting Execution: Iterate through the binary search functions and list types to collect data and call the 'show_plot' function.\n",
    "---"
   ]
  },
  {
   "cell_type": "markdown",
   "metadata": {},
   "source": [
    "### Part C"
   ]
  },
  {
   "cell_type": "markdown",
   "metadata": {},
   "source": [
    "Recall that I discussed in the class, the possibility of \"reducing the comparisons\" in Binary Search implementation. One solution came up is to remove the comparison with \"mid\". If you design an experiment to test this, you will soon realize that while this speeds up the execution time by reducing the number of comparisons needed, it fails when the element to be searched is right in the middle.  So are there any ways to improve the speed of Binary Search that is not dependent on data? The answer is recursion! In this section, implement a Binary Search recursively."
   ]
  },
  {
   "cell_type": "code",
   "execution_count": 301,
   "metadata": {},
   "outputs": [],
   "source": [
    "def binary_search_4(item_list, to_find,lower,upper):\n",
    "\n",
    "    if lower > upper:\n",
    "        return False\n",
    "\n",
    "    mid = (lower + upper) // 2\n",
    "\n",
    "    if item_list[mid] == to_find:\n",
    "        return True\n",
    "    elif item_list[mid] < to_find:\n",
    "        return binary_search_4(item_list, to_find, mid + 1, upper)\n",
    "    else:\n",
    "        return binary_search_4(item_list, to_find, lower, mid - 1)"
   ]
  },
  {
   "cell_type": "markdown",
   "metadata": {},
   "source": [
    "Run all the experiments in Part B comapring all 4 implementations under all 6 cases. Plot the timings, and describe the results in the below section. Write a short description of your observation; why is recursion better in this case?"
   ]
  },
  {
   "cell_type": "code",
   "execution_count": 303,
   "metadata": {},
   "outputs": [
    {
     "data": {
      "image/png": "[encoded data removed]",
      "text/plain": [
       "<Figure size 1440x576 with 1 Axes>"
      ]
     },
     "metadata": {
      "needs_background": "light"
     },
     "output_type": "display_data"
    },
    {
     "data": {
      "image/png": "[encoded data removed]",
      "text/plain": [
       "<Figure size 1440x576 with 1 Axes>"
      ]
     },
     "metadata": {
      "needs_background": "light"
     },
     "output_type": "display_data"
    }
   ],
   "source": [
    "## you experiment code goes here\n",
    "\n",
    "def measureTime_rec(item_list, to_find):\n",
    "    runs=75\n",
    "    sum = 0\n",
    "    for _ in range(runs):\n",
    "        start = timeit.default_timer()\n",
    "        binary_search_4(item_list, to_find,0,len(item_list)-1)\n",
    "        stop=timeit.default_timer()\n",
    "        sum += stop-start\n",
    "    \n",
    "    return sum/runs\n",
    "\n",
    "\n",
    "list_size = 1000  #Should be over 1000\n",
    "list=[random.randint(1, 100000) for _ in range(list_size)]\n",
    "odd_even = {\"Odd\" : generateOdd(list_size), \"Even\" :generateEven(list_size)}\n",
    "pos= {\"Beginning\": 0, \"End\": len(list) - 1, \"Middle\": list_size // 2}\n",
    "binarySearch = [binary_search_1, binary_search_2, binary_search_3, binary_search_4]\n",
    "run_times_oddeven=[]\n",
    "run_times_pos=[]\n",
    "labelOddEven=[]\n",
    "labelPos=[]\n",
    "\n",
    "for func in binarySearch:\n",
    "    for i in odd_even:\n",
    "        labelOddEven.append(func.__name__[-1] + \" \" + i)\n",
    "        l=odd_even.get(i)\n",
    "        ind = random.randint(0,len(l))\n",
    "        if func.__name__==\"binary_search_4\":\n",
    "            run_time = measureTime_rec(l, l[ind])\n",
    "        else:\n",
    "            run_time = measureTime(func, l, l[ind])\n",
    "        run_times_oddeven.append(run_time)\n",
    "        \n",
    "for func in binarySearch:\n",
    "    for i in pos:\n",
    "        labelPos.append(func.__name__[-1] + \" \" + i)\n",
    "        if func.__name__==\"binary_search_4\":\n",
    "            run_time = measureTime_rec(list, list[pos.get(i)])\n",
    "        else:\n",
    "            run_time = measureTime(func, list, list[pos.get(i)])\n",
    "        run_times_pos.append(run_time)\n",
    "\n",
    "show_plot(labelOddEven,run_times_oddeven)\n",
    "show_plot(labelPos,run_times_pos)"
   ]
  },
  {
   "cell_type": "markdown",
   "metadata": {},
   "source": [
    "##### Result Discussion:"
   ]
  },
  {
   "cell_type": "markdown",
   "metadata": {},
   "source": [
    "---\n",
    "First Bar Graph : \n",
    "Each bar represents the average time taken for 75 runs (the number of runs can be adjusted) in each case:\n",
    "1. The first bar shows the average time taken when using `binary_search_1` on an odd-length list.\n",
    "2. The second bar shows the average time taken when using `binary_search_1` on an even-length list.\n",
    "3. The third bar shows the average time taken when using `binary_search_2` on an odd-length list.\n",
    "4. The fourth bar shows the average time taken when using `binary_search_2` on an even-length list.\n",
    "5. The fifth bar shows the average time taken when using `binary_search_3` on an odd-length list.\n",
    "6. The sixth bar shows the average time taken when using `binary_search_3` on an even-length list.\n",
    "7. The seventh bar shows the average time taken when using `binary_search_4` on an odd-length list.\n",
    "8. The eighth bar shows the average time taken when using `binary_search_4` on an even-length list.\n",
    "\n",
    "    Experiment Outline:\n",
    "        1. Generate Lists: Use the functions 'generateOdd' and 'generateEven' to create sorted lists of odd and even lengths containing at least 1000 integers each.\n",
    "        2. Measure Execution Time: Use the function 'measureTime' to obtain the average runtime in multiple runs (75 times in my experiment but can be adjusted) for each case for binary_search 1 to 3. Create the function called 'measureTime_rec' for binary_search_4 since it requires lower and upper parameters unlike the others.\n",
    "        3. Data Collection: Store the average run times for each case in a list named 'run_times_oddeven'.\n",
    "\n",
    "    Plotting Outline:\n",
    "        1. Preparing Data: Use the list 'run_times_oddeven' to store the corresponding run times with a list of labels named 'labelOddEven,' which shows which binary search implementation is used (by number) and whether the length is even or odd.\n",
    "        2. Plotting Function: Implement a function 'show_plot' that takes labels and run times as input and generates a bar plot.\n",
    "        3. Plotting Execution: Loop through the binary search functions and list types to collect data and call the 'show_plot' function.\n",
    "\n",
    "Second Bar Graph : \n",
    "Each bar represents the average time taken for 75 runs (the number of runs can be adjusted) in each case:\n",
    "1. The first bar shows the average time taken when using `binary_search_1` to find the item at the beginning of the list.\n",
    "2. The second bar shows the average time taken when using `binary_search_1` to find the item at the end of the list.\n",
    "3. The third bar shows the average time taken when using `binary_search_1` to find the item in the middle of the list.\n",
    "4. The fourth bar shows the average time taken when using `binary_search_2` to find the item at the beginning of the list.\n",
    "5. The fifth bar shows the average time taken when using `binary_search_2` to find the item at the end of the list.\n",
    "6. The sixth bar shows the average time taken when using `binary_search_2` to find the item in the middle of the list.\n",
    "7. The seventh bar shows the average time taken when using `binary_search_3` to find the item at the beginning of the list.\n",
    "8. The eighth bar shows the average time taken when using `binary_search_3` to find the item at the end of the list.\n",
    "9. The ninth bar shows the average time taken when using `binary_search_3` to find the item in the middle of the list.\n",
    "10. The tenth bar shows the average time taken when using `binary_search_4` to find the item at the beginning of the list.\n",
    "11. The eleventh bar shows the average time taken when using `binary_search_4` to find the item at the end of the list.\n",
    "12. The twelfth bar shows the average time taken when using `binary_search_4` to find the item in the middle of the list.\n",
    "\n",
    "    Experiment Outline:\n",
    "        1. Generate Lists: Create a sorted list named 'list' using random to generate a list of random integers of length 1000 (length can be adjusted by changing the integer of the variable list_size).\n",
    "        2. Measure Execution Time: Use the function 'measureTime' to obtain the average runtime in multiple runs (75 times in my experiment but can be adjusted) for each case. Create the function called 'measureTime_rec' for binary_search_4 since it requires lower and upper parameters unlike the others.\n",
    "        3. Data Collection: Store the average run times for each case in a list named 'run_times_pos'.\n",
    "\n",
    "    Plotting Outline:\n",
    "        1. Preparing Data: Use the list 'run_times_pos' to store the corresponding run times with a list of labels named 'labelPos,' which shows which binary search implementation is used (by number) and the position of the item being searched.\n",
    "        2. Plotting Function: Implement a function 'show_plot' that takes labels and run times as input and generates a bar plot.\n",
    "        3. Plotting Execution: Loop through the binary search functions and list types to collect data and call the 'show_plot' function.\n",
    "\n",
    "---"
   ]
  },
  {
   "cell_type": "markdown",
   "metadata": {},
   "source": [
    "### PART D"
   ]
  },
  {
   "cell_type": "markdown",
   "metadata": {},
   "source": [
    "Now that you are comfortable in designing experiments, in this section, use the implementations of **Heap**, **Merge**, and **Quick** sort discussed in class and run suitable experiments to compare the runtimes of these three algorithms. \n",
    "\n",
    "Hint: it should become clear where Quick sort gets its name."
   ]
  },
  {
   "cell_type": "code",
   "execution_count": 185,
   "metadata": {},
   "outputs": [],
   "source": [
    "# your implementation and experiments go here."
   ]
  },
  {
   "cell_type": "markdown",
   "metadata": {},
   "source": [
    "In this section, provide a detailed outline of:\n",
    "- The experiments you ran, length values of the list you chose, number of runs, etc.\n",
    "- The plots showing the run times corresponding to each algorithm.\n",
    "- A brief discussion and conclusion regarding the results. A few sentences are fine here."
   ]
  },
  {
   "cell_type": "markdown",
   "metadata": {},
   "source": [
    "---\n",
    "---"
   ]
  },
  {
   "cell_type": "markdown",
   "metadata": {},
   "source": [
    "### PART E"
   ]
  },
  {
   "cell_type": "markdown",
   "metadata": {},
   "source": [
    "E1. In previous experiments you also saw that not all algorithms are suitable for all scenarios. For instance, Merge Sort is better than Quick sort for certain situations. In this section, design a experiment to compare the scenarios where Merge Sort is better/worse than Quick Sort. You can use the traditional version of Merge Sort or use improved version ( maybe via recursion) to compare this performance."
   ]
  },
  {
   "cell_type": "code",
   "execution_count": null,
   "metadata": {},
   "outputs": [],
   "source": [
    "# your implementation and experiments go here."
   ]
  },
  {
   "cell_type": "markdown",
   "metadata": {},
   "source": [
    "In this section, provide a detailed outline of:\n",
    "- The experiments you ran, length values of the list you chose, number of runs, etc.\n",
    "- The plots showing the run times corresponding to each algorithm.\n",
    "- A brief discussion and conclusion regarding the results. A few sentences are fine here."
   ]
  },
  {
   "cell_type": "markdown",
   "metadata": {},
   "source": [
    "---"
   ]
  },
  {
   "cell_type": "markdown",
   "metadata": {},
   "source": [
    "E2. Recall that on the first day of class I asked which two algorithms have similar complexity - Merge Sort and Quick Sort under (O(nlogn)) are likely to perform similar under average cases. However, under worst case, the complexity of quick sort is much worse (O(n^2). Design an experiment to show this behavior. Plot this behavior on a bar/line chart. \n",
    "\n",
    "Next, count the number of \"swaps\" after which Quick sort starts behaving comparable to Merge sort. \n",
    "\n",
    "HINT: This will be a threshold at which the quick sort algorithm picks up again.\n"
   ]
  },
  {
   "cell_type": "code",
   "execution_count": 1,
   "metadata": {},
   "outputs": [],
   "source": [
    "## your implementation and code goes here"
   ]
  },
  {
   "cell_type": "markdown",
   "metadata": {},
   "source": [
    "In this section, provide a detailed outline of:\n",
    "- The experiments you ran and the rationale behind your worst case scenario.\n",
    "- The plots showing the run times.\n",
    "\n",
    "Further explain how you computed the swaps and verify that you calculation is correct, by applying it on a diifferent list under same experimental conditions."
   ]
  },
  {
   "cell_type": "markdown",
   "metadata": {},
   "source": [
    "**Reflection**:"
   ]
  },
  {
   "cell_type": "markdown",
   "metadata": {},
   "source": [
    "---\n",
    "---"
   ]
  },
  {
   "cell_type": "markdown",
   "metadata": {},
   "source": [
    "### PART F"
   ]
  },
  {
   "cell_type": "markdown",
   "metadata": {},
   "source": [
    "Traditionally, Insertion Sort is worst than Heap Sort and Merge Sort. Now that you are a master at critical evaluation of sorting and searching algorithms, design an experiment to show that this may not be universally true. That is, there maybe scenarios where insertion sort is better than merge and heap sort.\n",
    "\n",
    "HINT: Think about the Best Case of insertion sort.\n",
    "\n",
    "Again, provide:\n",
    "- An explicit outline of the experiments you ran. That is, list length values, how many “runs”, etc.\n",
    "- A graph of list length vs time displaying the appropriate three curves showing. List lengths should be small here.\n",
    "- A brief discussion and conclusion regarding the results. A few sentences are fine here.\n",
    "- Reflect on why these are experiments are important. \n",
    "\n",
    "HINT: Can you create some sort of \"hybrid\" sort that would be better?"
   ]
  },
  {
   "cell_type": "code",
   "execution_count": 304,
   "metadata": {},
   "outputs": [],
   "source": [
    "def merge_sort(arr):\n",
    "    if len(arr) <= 1:\n",
    "        return arr\n",
    "    \n",
    "    mid = len(arr) // 2\n",
    "    left_half = arr[:mid]\n",
    "    right_half = arr[mid:]\n",
    "\n",
    "    left_half = merge_sort(left_half)\n",
    "    right_half = merge_sort(right_half)\n",
    "\n",
    "    return merge(left_half, right_half)\n",
    "\n",
    "def merge(left, right):\n",
    "    result = []\n",
    "    i = j = 0\n",
    "\n",
    "    while i < len(left) and j < len(right):\n",
    "        if left[i] < right[j]:\n",
    "            result.append(left[i])\n",
    "            i += 1\n",
    "        else:\n",
    "            result.append(right[j])\n",
    "            j += 1\n",
    "\n",
    "    result.extend(left[i:])\n",
    "    result.extend(right[j:])\n",
    "\n",
    "    return result\n",
    "\n",
    "def heap_sort(arr):\n",
    "    def heapify(arr, n, i):\n",
    "        largest = i\n",
    "        left_child = 2 * i + 1\n",
    "        right_child = 2 * i + 2\n",
    "\n",
    "        if left_child < n and arr[left_child] > arr[largest]:\n",
    "            largest = left_child\n",
    "\n",
    "        if right_child < n and arr[right_child] > arr[largest]:\n",
    "            largest = right_child\n",
    "\n",
    "        if largest != i:\n",
    "            arr[i], arr[largest] = arr[largest], arr[i]\n",
    "            heapify(arr, n, largest)\n",
    "\n",
    "    n = len(arr)\n",
    "\n",
    "    # Build max heap\n",
    "    for i in range(n // 2 - 1, -1, -1):\n",
    "        heapify(arr, n, i)\n",
    "\n",
    "    # Extract elements one by one\n",
    "    for i in range(n - 1, 0, -1):\n",
    "        arr[i], arr[0] = arr[0], arr[i]  # swap\n",
    "        heapify(arr, i, 0)\n",
    "\n",
    "    return arr\n",
    "\n",
    "\n",
    "def insertion_sort(arr):\n",
    "    for i in range(1, len(arr)):\n",
    "        key = arr[i]\n",
    "        j = i - 1\n",
    "        while j >= 0 and key < arr[j]:\n",
    "            arr[j + 1] = arr[j]\n",
    "            j -= 1\n",
    "        arr[j + 1] = key\n",
    "\n",
    "    return arr\n"
   ]
  },
  {
   "cell_type": "code",
   "execution_count": 306,
   "metadata": {},
   "outputs": [
    {
     "name": "stdout",
     "output_type": "stream",
     "text": [
      "[10, 50, 100, 500, 1000, 5000, 10000]\n",
      "[5.319328047335148e-06, 1.1001771005491416e-05, 2.468820894137025e-05, 0.00025419521145522597, 0.0006397290683041016, 0.01883651120122522, 0.04124360907046745]\n",
      "[2.1577184088528156e-06, 9.484772259990374e-06, 1.9691723864525556e-05, 0.00010233776178210974, 0.00015822965108479062, 0.01354615719988942, 0.056863298987348876]\n",
      "[1.3883039355278014e-05, 9.246616546685497e-05, 0.00019013176206499337, 0.0010439572312558691, 0.001891049613089611, 0.011397301588052263, 0.02302102990836526]\n",
      "[2.1538009556631246e-05, 0.00016537085253124435, 0.00037040929387633997, 0.00195922247832641, 0.004335196692651758, 0.028048589987059433, 0.061583539745770396]\n"
     ]
    },
    {
     "data": {
      "image/png": "[encoded data removed]",
      "text/plain": [
       "<Figure size 1440x576 with 1 Axes>"
      ]
     },
     "metadata": {
      "needs_background": "light"
     },
     "output_type": "display_data"
    }
   ],
   "source": [
    "## your implementation and code goes here\n",
    "def hybrid_sort(data):\n",
    "    threshold = 1000\n",
    "    if len(data) <= threshold:\n",
    "        return insertion_sort(data)\n",
    "    else:\n",
    "        return merge_sort(data)\n",
    "    \n",
    "def measure_time(func, data):\n",
    "    runs=75\n",
    "    sum = 0\n",
    "    for _ in range(runs):\n",
    "        start = timeit.default_timer()\n",
    "        func(data)\n",
    "        stop=timeit.default_timer()\n",
    "        sum += stop-start\n",
    "    return sum/runs\n",
    "    \n",
    "\n",
    "sizes=[10, 50, 100, 500, 1000,5000, 10000]\n",
    "algs=[\"hybrid\", \"ins\", \"merge\", \"heap\"]\n",
    "hybrid_time =[]\n",
    "insertionsort_time = []\n",
    "mergesort_time = []\n",
    "heapsort_time =[]\n",
    "\n",
    "for size in sizes:\n",
    "    data = [random.randint(1,1000000) for _ in range(size)]\n",
    "    for a in algs:\n",
    "        if a ==\"hybrid\":\n",
    "            hybrid_time.append(measure_time(hybrid_sort,data))\n",
    "        elif a == \"ins\":\n",
    "            insertionsort_time.append(measure_time(insertion_sort,data))\n",
    "        elif a == \"merge\":\n",
    "            mergesort_time.append(measure_time(merge_sort, data))\n",
    "        elif a == \"heap\":\n",
    "            heapsort_time.append(measure_time(heap_sort, data))\n",
    "print(sizes)\n",
    "print(hybrid_time)\n",
    "print(insertionsort_time)\n",
    "print(mergesort_time)\n",
    "print(heapsort_time)\n",
    "\n",
    "x = np.arange(0, len(xlab),1)\n",
    "fig=plt.figure(figsize=(20,8))\n",
    "plt.plot(xlab, hybrid_time, label='Hybrid Sort')\n",
    "plt.plot(xlab, insertionsort_time, label='Insertion Sort')\n",
    "plt.plot(xlab, mergesort_time, label='Merge Sort')\n",
    "plt.plot(xlab, heapsort_time, label='Heap Sort')\n",
    "\n",
    "# Adding labels and title\n",
    "plt.xlabel(\"Data Size\")\n",
    "plt.ylabel(\"Run time in ms order of 1e-6\")\n",
    "plt.title('Comparison of Sorting Algorithms')\n",
    "\n",
    "# Adding x-axis ticks\n",
    "plt.xticks(x,sizes)\n",
    "\n",
    "# Adding a legend\n",
    "plt.legend()\n",
    "\n",
    "# Display the plot\n",
    "plt.show()"
   ]
  },
  {
   "cell_type": "markdown",
   "metadata": {},
   "source": [
    "**Reflection**:"
   ]
  },
  {
   "cell_type": "markdown",
   "metadata": {},
   "source": [
    "---\n",
    "Insertion sort takes the shortest when the size of data is less than 1000 but exceeds merge sort when data size becomes larger than 5000 making merge sort taking the shortest time.\n",
    "So, I made a hybrid sort that uses insertion sort when the data size is less than 1000 and uses merge sort when \n",
    "the data size is larger than 1000.\n",
    "\n",
    "---"
   ]
  },
  {
   "cell_type": "markdown",
   "metadata": {},
   "source": [
    "**Team Contributions**: In below section describe in detail how you distributed the workload and contributions of each member in the task."
   ]
  },
  {
   "cell_type": "markdown",
   "metadata": {},
   "source": []
  },
  {
   "cell_type": "markdown",
   "metadata": {},
   "source": [
    "---\n",
    "---"
   ]
  },
  {
   "cell_type": "markdown",
   "metadata": {},
   "source": []
  }
 ],
 "metadata": {
  "kernelspec": {
   "display_name": "Python 3 (ipykernel)",
   "language": "python",
   "name": "python3"
  },
  "language_info": {
   "codemirror_mode": {
    "name": "ipython",
    "version": 3
   },
   "file_extension": ".py",
   "mimetype": "text/x-python",
   "name": "python",
   "nbconvert_exporter": "python",
   "pygments_lexer": "ipython3",
   "version": "3.9.12"
  }
 },
 "nbformat": 4,
 "nbformat_minor": 2
}
