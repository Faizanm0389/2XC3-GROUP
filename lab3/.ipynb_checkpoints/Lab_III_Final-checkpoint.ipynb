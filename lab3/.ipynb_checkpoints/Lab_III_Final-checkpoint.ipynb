{
 "cells": [
  {
   "cell_type": "markdown",
   "metadata": {},
   "source": [
    "# Computer Science 2XC3 - Graded Lab II"
   ]
  },
  {
   "cell_type": "markdown",
   "metadata": {},
   "source": [
    "Please refer to the pdf for detailed instructions. The below file contains all the preliminary code you will need to work on the lab. You can copy paste instructions here to create one cohesive lab and organize it that best suits your teams workflow. "
   ]
  },
  {
   "cell_type": "code",
   "execution_count": 1,
   "metadata": {},
   "outputs": [],
   "source": [
    "import random\n",
    "import timeit \n",
    "import matplotlib.pyplot as plt\n",
    "import numpy as np\n",
    "import math\n",
    "from queue import LifoQueue as Stack\n",
    "from queue import Queue\n",
    "import networkx as nx"
   ]
  },
  {
   "cell_type": "code",
   "execution_count": 2,
   "metadata": {},
   "outputs": [],
   "source": [
    "class GraphI:\n",
    "\n",
    "    # using hash map\n",
    "    def __init__(self, edges):\n",
    "        self.graph = {}\n",
    "        for x,y in edges:\n",
    "            if x not in self.graph.keys():\n",
    "                self.graph[x]=[]\n",
    "            self.graph[x].append(y)\n",
    "\n",
    "    def has_edge(self, src, dst):\n",
    "        return src in self.graph[dst]\n",
    "\n",
    "    def get_graph_size(self,):\n",
    "        return len(self.graph)\n",
    "    \n",
    "    def get_graph(self,):\n",
    "        return self.graph\n",
    "\n",
    "    #Modified version of dfs function provided below.\n",
    "    def depth_first_search(self, node, end_point=None):\n",
    "        stack = [node]\n",
    "        graph = self.get_graph()\n",
    "        seen = set()\n",
    "\n",
    "        while len(stack) !=0:\n",
    "            node = stack.pop()\n",
    "            if node not in seen:\n",
    "                seen.add(node)\n",
    "                if node in graph.keys():\n",
    "                    for nn in graph[node]:\n",
    "                        if nn == end_point:\n",
    "                            return True\n",
    "                        stack.append(nn)\n",
    "        return False\n",
    "    \n",
    "    #part 1.3\n",
    "    #directed graph\n",
    "    def has_cycle(self):\n",
    "        marked = set()\n",
    "\n",
    "        for v in self.graph:\n",
    "            if v not in marked:\n",
    "                if self.depth_first_search(v,v):\n",
    "                    return True\n",
    "        return False\n",
    "    #part 1.4\n",
    "    #directed graph\n",
    "    def is_connected(self, src, dst):\n",
    "        return self.depth_first_search(src, dst)"
   ]
  },
  {
   "cell_type": "code",
   "execution_count": 3,
   "metadata": {},
   "outputs": [
    {
     "name": "stdout",
     "output_type": "stream",
     "text": [
      "True\n",
      "True\n"
     ]
    }
   ],
   "source": [
    "#part 1.3 & 1.4 testing\n",
    "g = GraphI([(0, 1), (1, 2), (2,0), (2, 3), (5, 4)])\n",
    "#g = GraphI([(0, 1), (0, 2), (1, 2), (2, 3)])\n",
    "\n",
    "print(g.has_cycle())\n",
    "\n",
    "print(g.is_connected(5,4))"
   ]
  },
  {
   "cell_type": "code",
   "execution_count": 4,
   "metadata": {},
   "outputs": [],
   "source": [
    "class GraphII:\n",
    "\n",
    "    # using adjacency list\n",
    "    def __init__(self, nodes):\n",
    "        self.graph = []\n",
    "        # node numbered 0-1\n",
    "        for node in range(nodes):\n",
    "            self.graph.append([])\n",
    "        \n",
    "    def has_edge(self, src, dst):\n",
    "        return src in self.graph[dst]\n",
    "    \n",
    "    def add_edge(self,src,dst):\n",
    "        if not self.has_edge(src,dst):\n",
    "            self.graph[src].append(dst)\n",
    "            self.graph[dst].append(src)\n",
    "    \n",
    "    def get_graph(self,):\n",
    "        return self.graph\n",
    "\n",
    "    def get_size(self,):\n",
    "        return len(self.graph)\n",
    "    \n",
    "    #part 1.3\n",
    "    #undirected graph\n",
    "    def has_cycle_(self, v, marked, on_path):\n",
    "        marked[v] = True\n",
    "        \n",
    "        for i in self.graph[v]:\n",
    "            if not marked[i]:\n",
    "                if self.has_cycle_(i, marked, v):\n",
    "                    return True\n",
    "            elif on_path != i:\n",
    "                return True\n",
    "        \n",
    "        return False\n",
    "    \n",
    "    def has_cycle(self):\n",
    "        marked = [False] * len(self.graph)\n",
    "        \n",
    "        for w in range(len(self.graph)):\n",
    "            if not marked[w]:\n",
    "                if self.has_cycle_(w, marked, -1):\n",
    "                    return True\n",
    "        \n",
    "        return False\n",
    "    \n",
    "    #part 1.4\n",
    "    #undirected graph\n",
    "    def is_connected_(self, v, connected, marked):\n",
    "        if v == connected:\n",
    "            return True\n",
    "        \n",
    "        marked[v] = True\n",
    "        \n",
    "        for w in self.graph[v]:\n",
    "            if not marked[w]:\n",
    "                if self.is_connected_(w, connected, marked):\n",
    "                    return True\n",
    "        \n",
    "        return False\n",
    "    \n",
    "    def is_connected(self, src, dst):\n",
    "        marked = [False] * len(self.graph)\n",
    "        \n",
    "        return self.is_connected_(src, dst, marked)"
   ]
  },
  {
   "cell_type": "code",
   "execution_count": 5,
   "metadata": {},
   "outputs": [
    {
     "name": "stdout",
     "output_type": "stream",
     "text": [
      "True\n",
      "True\n"
     ]
    }
   ],
   "source": [
    "#part 1.3 & 1.4 testing\n",
    "\n",
    "graph = GraphII(6)\n",
    "#graph.add_edge(0,1)\n",
    "graph.add_edge(1,2)\n",
    "graph.add_edge(1,3)\n",
    "graph.add_edge(2,0)\n",
    "graph.add_edge(2,3)\n",
    "graph.add_edge(3,4)\n",
    "# graph.add_edge(4,5)\n",
    "# graph.add_edge(3,5)\n",
    "print(graph.has_cycle())\n",
    "print(graph.is_connected(4,2))"
   ]
  },
  {
   "cell_type": "code",
   "execution_count": 6,
   "metadata": {},
   "outputs": [
    {
     "name": "stdout",
     "output_type": "stream",
     "text": [
      "[[], [2], [1, 5], [], [], [2, 9], [9], [], [], [5, 6]]\n"
     ]
    }
   ],
   "source": [
    "testgraph = GraphII(10)\n",
    "\n",
    "testgraph.add_edge(1,2)\n",
    "\n",
    "testgraph.add_edge(2,5)\n",
    "\n",
    "testgraph.add_edge(5,9)\n",
    "\n",
    "testgraph.add_edge(9,6)\n",
    "\n",
    "print(testgraph.get_graph())\n"
   ]
  },
  {
   "cell_type": "code",
   "execution_count": 7,
   "metadata": {},
   "outputs": [],
   "source": [
    "def depth_first_search(G,node,end_point=None):\n",
    "    stack = [node]\n",
    "    graph = G.get_graph()\n",
    "    seen=set()\n",
    "\n",
    "    while len(stack) !=0:\n",
    "        node = stack.pop()\n",
    "        # search for neighbours in graph\n",
    "        if node not in seen:\n",
    "            seen.add(node)\n",
    "            print(\"Visited node:\" + str(node))\n",
    "            # if the given node has an edge\n",
    "            if node in graph.keys():\n",
    "                # iterate over edges of node\n",
    "                for nn in graph[node]:\n",
    "\n",
    "                    # limited traversal\n",
    "                    if nn == end_point:\n",
    "                        return True\n",
    "                    # add to stack\n",
    "                    stack.append(nn)"
   ]
  },
  {
   "cell_type": "code",
   "execution_count": 8,
   "metadata": {},
   "outputs": [],
   "source": [
    "#Breadth First Search\n",
    "def breadth_first_search(G, node):\n",
    "    stack = [node]\n",
    "    graph = G.get_graph()\n",
    "    seen=set()\n",
    "\n",
    "    seen.add(node)\n",
    "\n",
    "    while len(stack) > 0:\n",
    "        node = stack[0]\n",
    "        stack = stack[1:]\n",
    "        print(\"Visiting node: \" + str(node))\n",
    "        if node in graph.keys():\n",
    "            for nn in graph[node]:\n",
    "                #if node == node2:\n",
    "                #    return True\n",
    "                if nn not in seen:\n",
    "                    stack.append(nn)\n",
    "                    seen.add(nn)"
   ]
  },
  {
   "cell_type": "code",
   "execution_count": 9,
   "metadata": {},
   "outputs": [],
   "source": [
    "#Use the methods below to determine minimum vertex covers\n",
    "\n",
    "def add_to_each(sets, element):\n",
    "    copy = sets.copy()\n",
    "    for set in copy:\n",
    "        set.append(element)\n",
    "    return copy\n",
    "\n",
    "def power_set(set):\n",
    "    if set == []:\n",
    "        return [[]]\n",
    "    return power_set(set[1:]) + add_to_each(power_set(set[1:]), set[0])\n",
    "\n",
    "def is_vertex_cover(G, C):\n",
    "    for start in G.adj:\n",
    "        for end in G.adj[start]:\n",
    "            if not(start in C or end in C):\n",
    "                return False\n",
    "    return True\n",
    "\n",
    "def MVC(G):\n",
    "    nodes = [i for i in range(G.get_size())]\n",
    "    subsets = power_set(nodes)\n",
    "    min_cover = nodes\n",
    "    for subset in subsets:\n",
    "        if is_vertex_cover(G, subset):\n",
    "            if len(subset) < len(min_cover):\n",
    "                min_cover = subset\n",
    "    return min_cover\n"
   ]
  },
  {
   "cell_type": "code",
   "execution_count": 10,
   "metadata": {},
   "outputs": [
    {
     "name": "stdout",
     "output_type": "stream",
     "text": [
      "[-1, -1, 1, -1, -1, 2, 9, -1, -1, 5]\n"
     ]
    }
   ],
   "source": [
    "# Part 1.1\n",
    "\n",
    "# DFS2\n",
    "\n",
    "# DFS2 Helper\n",
    "def paths_dfs(g: GraphII, s: int):\n",
    "    def dfsp(v):\n",
    "        marked[v] = True\n",
    "\n",
    "        for w in g.graph[v]:\n",
    "            if not marked[w]:\n",
    "                edge_to[w] = v\n",
    "                dfsp(w)\n",
    "    # end dfsp\n",
    "\n",
    "    vcount = len(g.get_graph())\n",
    "    marked = [False] * vcount\n",
    "    edge_to = [-1] * vcount\n",
    "\n",
    "    dfsp(s)\n",
    "\n",
    "    return edge_to\n",
    "\n",
    "def DFS2(g: GraphII, s, v):\n",
    "\n",
    "    edge_to = paths_dfs(g, s)\n",
    "    if edge_to[v] == -1:\n",
    "        return []\n",
    "\n",
    "    p = Stack()     # construct the path backwards\n",
    "    x = v\n",
    "    while x != s:\n",
    "        p.put(x)        # put = push\n",
    "        x = edge_to[x]\n",
    "    p.put(s)            # put = push\n",
    "\n",
    "    path = []       # dump it out into an array\n",
    "    while not p.empty():\n",
    "        path.append(p.get(False))   # get = pop\n",
    "\n",
    "    return path\n",
    "\n",
    "# BFS2\n",
    "\n",
    "# BFS2 Helper\n",
    "def paths_bfs(g: GraphII, s: int):\n",
    "    vcount = len(g.get_graph())\n",
    "    marked = [False] * vcount\n",
    "    edge_to = [-1] * vcount\n",
    "    open = Queue()\n",
    "    count = 0\n",
    "\n",
    "    marked[s] = True\n",
    "    open.put(s)\n",
    "\n",
    "    while not open.empty():\n",
    "        v = open.get(False)\n",
    "        for w in g.graph[v]:\n",
    "            if not marked[w]:\n",
    "                edge_to[w] = v\n",
    "                marked[w] = True\n",
    "                open.put(w)\n",
    "\n",
    "    return edge_to\n",
    "\n",
    "def BFS2(g: GraphII, s, v):\n",
    "    edge_to = paths_bfs(g, s)\n",
    "    if edge_to[v] == -1:\n",
    "        return []\n",
    "\n",
    "    p = Stack()     # construct the path backwards\n",
    "    x = v\n",
    "    while x != s:\n",
    "        p.put(x)        # put = push\n",
    "        x = edge_to[x]\n",
    "    p.put(s)            # put = push\n",
    "\n",
    "    path = []       # dump it out into an array\n",
    "    while not p.empty():\n",
    "        path.append(p.get(False))   # get = pop\n",
    "\n",
    "    return path\n",
    "\n",
    "print(paths_bfs(testgraph,1))\n",
    "# print(DFS2(testgraph, 1,6))\n",
    "# print(BFS2(testgraph, 1,6))"
   ]
  },
  {
   "cell_type": "code",
   "execution_count": 11,
   "metadata": {},
   "outputs": [
    {
     "name": "stdout",
     "output_type": "stream",
     "text": [
      "{2: 1, 5: 2, 6: 9, 9: 5}\n",
      "{2: 1, 5: 2, 6: 9, 9: 5}\n"
     ]
    }
   ],
   "source": [
    "# Part 1.2\n",
    "\n",
    "def BFS3(g: GraphII, s):\n",
    "    outputdict = {}\n",
    "    vcount = len(g.get_graph())\n",
    "    bfsoutput = paths_bfs(g,s)\n",
    "    for i in range(vcount):\n",
    "        if (bfsoutput[i] != -1):\n",
    "            outputdict[i] = bfsoutput[i]\n",
    "    return outputdict\n",
    "\n",
    "def DFS3(g: GraphII, s):\n",
    "    outputdict = {}\n",
    "    vcount = len(g.get_graph())\n",
    "    dfsoutput = paths_dfs(g,s)\n",
    "    for i in range(vcount):\n",
    "        if (dfsoutput[i] != -1):\n",
    "            outputdict[i] = dfsoutput[i]\n",
    "    return outputdict\n",
    "\n",
    "print(BFS3(testgraph,1))\n",
    "print(DFS3(testgraph,1))\n"
   ]
  },
  {
   "cell_type": "markdown",
   "metadata": {},
   "source": [
    "### 1.5 \n"
   ]
  },
  {
   "cell_type": "code",
   "execution_count": 12,
   "metadata": {},
   "outputs": [],
   "source": [
    "import random\n",
    "\n",
    "def generate_random_graph(n, e):\n",
    "    graph = GraphII(n)\n",
    "    for _ in range(e):\n",
    "        node_source = random.randint(0, n-1)\n",
    "        edge_dist = random.randint(0, n-1)\n",
    "        graph.add_edge(node_source, edge_dist)\n",
    "    return graph"
   ]
  },
  {
   "cell_type": "code",
   "execution_count": 13,
   "metadata": {},
   "outputs": [
    {
     "data": {
      "image/png": "[encoded data removed]",
      "text/plain": [
       "<Figure size 432x288 with 1 Axes>"
      ]
     },
     "metadata": {},
     "output_type": "display_data"
    }
   ],
   "source": [
    "import networkx as nx\n",
    "\n",
    "def plot_graph(graph):\n",
    "    G = nx.Graph()\n",
    "    for node, adj in enumerate(graph):\n",
    "        for dst in adj:\n",
    "            G.add_edge(node, dst)\n",
    "    nx.draw(G)\n",
    "    plt.show()\n",
    "\n",
    "\n",
    "random_graph = generate_random_graph(20, 30)\n",
    "\n",
    "plot_graph(random_graph.get_graph())"
   ]
  },
  {
   "cell_type": "markdown",
   "metadata": {},
   "source": [
    "## 1.6\n"
   ]
  },
  {
   "cell_type": "code",
   "execution_count": 14,
   "metadata": {},
   "outputs": [],
   "source": [
    "def count_cycles(n, e, x):\n",
    "    count = 0\n",
    "    for _ in range(x):\n",
    "        random_graph = generate_random_graph(n, e)\n",
    "        if random_graph.has_cycle():\n",
    "            count += 1\n",
    "    percent = (count / x) * 100\n",
    "    return percent\n"
   ]
  },
  {
   "cell_type": "code",
   "execution_count": 15,
   "metadata": {},
   "outputs": [
    {
     "data": {
      "image/png": "[encoded data removed]",
      "text/plain": [
       "<Figure size 432x288 with 1 Axes>"
      ]
     },
     "metadata": {
      "needs_background": "light"
     },
     "output_type": "display_data"
    }
   ],
   "source": [
    "def experiment(start, end, step, n, e):\n",
    "    percentages = []\n",
    "    for i in range(start, end + 1, step):\n",
    "        percentages.append(count_cycles(i, n, e))\n",
    "    return percentages\n",
    "\n",
    "percentages = experiment(10, 100, 10, 20, 30)\n",
    "\n",
    "# Plotting\n",
    "plt.plot(range(10, 100 + 1, 10), percentages, marker='o')\n",
    "plt.xlabel('Amount of graphs')\n",
    "plt.ylabel('Percentage of Graphs with Cycles')\n",
    "plt.title('Experiment 1.6')\n",
    "plt.show()"
   ]
  },
  {
   "cell_type": "markdown",
   "metadata": {},
   "source": [
    "## 1.7"
   ]
  },
  {
   "cell_type": "code",
   "execution_count": 16,
   "metadata": {},
   "outputs": [],
   "source": [
    "def is_connected(graph):\n",
    "    # dfs approach \n",
    "    stack = [0] \n",
    "    visited = set()\n",
    "    \n",
    "    while stack:\n",
    "        node = stack.pop()\n",
    "        if node not in visited:\n",
    "            visited.add(node)\n",
    "            for neighbor in graph.get_graph()[node]:\n",
    "                stack.append(neighbor)\n",
    "    return len(visited) == len(graph.get_graph())\n",
    "\n",
    "def count_connection(n, e, x):\n",
    "    count = 0\n",
    "    for _ in range(x):\n",
    "        g = generate_random_graph(n, e)\n",
    "        if is_connected(g):\n",
    "            count += 1\n",
    "    percent = (count / x) * 100\n",
    "    return percent\n"
   ]
  },
  {
   "cell_type": "code",
   "execution_count": 17,
   "metadata": {},
   "outputs": [
    {
     "data": {
      "image/png": "[encoded data removed]",
      "text/plain": [
       "<Figure size 432x288 with 1 Axes>"
      ]
     },
     "metadata": {
      "needs_background": "light"
     },
     "output_type": "display_data"
    }
   ],
   "source": [
    "def experimentCountted(start, end, step, n, e):\n",
    "    percentages = []\n",
    "    for x in range(start, end + 1, step):\n",
    "        percentages.append(count_connection(n, e, x))\n",
    "    return percentages\n",
    "\n",
    "percentages = experimentCountted(10, 100, 10, 20, 30)\n",
    "\n",
    "\n",
    "plt.plot(range(10, 100 + 1, 10), percentages, marker='o')\n",
    "plt.xlabel('Amount of graphs')\n",
    "plt.ylabel('Percentage of Graphs with Cycles')\n",
    "plt.title('Experiment 1.6')\n",
    "plt.show()"
   ]
  },
  {
   "cell_type": "markdown",
   "metadata": {},
   "source": [
    "# Reflection \n",
    "\n",
    "### 1.6 Experiment  \n",
    "\n",
    "The 1.6 experiment above compares the perctange of occurence of cycles in graphs over a range. It does the experiment with 10,20,30,40...100 graphs generated and computes the perctanges of which cycles have occured. An obvious trend is present when looking the the plotted graph. As the amount of graphs increase, the percentage of cycles decrease. \n",
    "This may be because the number of edges and number of nodes remains the same throughout the experiment. As the number of graphs increases, the random generated graph needs to compute multiple ways of creating graphs with n nodes and e edges. Since there are only a few possible amount of graphs that can be made with n nodes and e edges, the rest will not include cycles.   \n",
    "\n",
    "An observation to support the findings is expalined below:  \n",
    "\n",
    "When creating 10 graphs, with 20 nodes and 30 edges, the percentages for different test cases were 100%, 90%, 100%. This suggests that there are atleast 10 different ways to create graphs with cycles with 20 nodes and 30 edges.   \n",
    "\n",
    "When creating 100 graphs, with 20 nodes and 30 edges, the percentages for different test cases were 30%, 27% 25%. This suggests that there may be 30 different ways to create graphs with cycles. The number of cycles in this is greater than the number with 10 graphs, percentage wise it is significantly less since it runs out of possible combinations  \n",
    "\n",
    "### 1.7 Experiment  \n",
    "\n",
    "The 1.7 experiment above compares the perctange of occurence of connections in graphs over a range. It does the experiment with 10,20,30,40...100 graphs generated and computes the perctanges of which connections have occured. An obvious trend is present when looking at the plotted graph. As the amount of graphs increase, the percentage of connections remains the constant with the range of 16% to 40%. \n",
    "\n",
    "It is observed that as the amount of graphs increases, the range fluctuations decreases. This suggests that as there are more samples, we can get better results. It can be assumed that with a higher value, we may expect a more accurate range of percentages. \n"
   ]
  },
  {
   "cell_type": "markdown",
   "metadata": {},
   "source": [
    "# Part 2"
   ]
  },
  {
   "cell_type": "code",
   "execution_count": 18,
   "metadata": {},
   "outputs": [],
   "source": [
    "#Modified functions given above.\n",
    "def add_to_each(sets, element):\n",
    "    copy = sets.copy()\n",
    "    for set in copy:\n",
    "        set.append(element)\n",
    "    return copy\n",
    "\n",
    "def power_set(set):\n",
    "    if set == []:\n",
    "        return [[]]\n",
    "    return power_set(set[1:]) + add_to_each(power_set(set[1:]), set[0])\n",
    "\n",
    "def is_vertex_cover(G, C):\n",
    "    for start in range(len(G.get_graph())):\n",
    "        for end in G.get_graph()[start]:\n",
    "            if not(start in C or end in C):\n",
    "                return False\n",
    "    return True\n",
    "\n",
    "def MVC(G):\n",
    "    nodes = [i for i in range(G.get_size())]\n",
    "    subsets = power_set(nodes)\n",
    "    min_cover = nodes\n",
    "    for subset in subsets:\n",
    "        if is_vertex_cover(G, subset):\n",
    "            if len(subset) < len(min_cover):\n",
    "                min_cover = subset\n",
    "    return min_cover"
   ]
  },
  {
   "cell_type": "markdown",
   "metadata": {},
   "source": [
    "## Part 2.1\n",
    "---"
   ]
  },
  {
   "cell_type": "code",
   "execution_count": 19,
   "metadata": {},
   "outputs": [
    {
     "name": "stdout",
     "output_type": "stream",
     "text": [
      "Approximate MVC: {0, 3}\n"
     ]
    }
   ],
   "source": [
    "import copy\n",
    "\n",
    "# Part 2.1\n",
    "def Approx1(G):\n",
    "    C = set()\n",
    "    graph = G.get_graph().copy()\n",
    "\n",
    "    while graph:\n",
    "        max_degree = -1\n",
    "        max_vertex = None\n",
    "        for vertex, neighbors in enumerate(graph):\n",
    "            if len(neighbors) > max_degree:\n",
    "                max_degree = len(neighbors)\n",
    "                max_vertex = vertex\n",
    "        \n",
    "        C.add(max_vertex)\n",
    "\n",
    "        neighbors_copy = graph[max_vertex].copy()\n",
    "        for neighbor in neighbors_copy:\n",
    "            if neighbor in graph:\n",
    "                graph[neighbor].remove(max_vertex)\n",
    "\n",
    "        del graph[max_vertex]\n",
    "\n",
    "        if is_vertex_cover(G, C):\n",
    "            return C\n",
    "   \n",
    "    return C \n",
    "\n",
    "\n",
    "\n",
    "graph = GraphII(5)\n",
    "graph.add_edge(0, 1)\n",
    "graph.add_edge(0, 2)\n",
    "graph.add_edge(1, 3)\n",
    "graph.add_edge(2, 3)\n",
    "graph.add_edge(3, 4)\n",
    "\n",
    "vertex_cover = Approx1(graph)\n",
    "print(\"Approximate MVC:\", vertex_cover)"
   ]
  },
  {
   "cell_type": "markdown",
   "metadata": {},
   "source": [
    "## Part 2.2\n",
    "---"
   ]
  },
  {
   "cell_type": "code",
   "execution_count": 20,
   "metadata": {},
   "outputs": [
    {
     "name": "stdout",
     "output_type": "stream",
     "text": [
      "Approximate MVC: {0, 1, 2, 4}\n"
     ]
    }
   ],
   "source": [
    "import random\n",
    "\n",
    "def Approx2(G):\n",
    "    C = set()\n",
    "    graph = G.get_graph().copy()\n",
    "\n",
    "    while graph:\n",
    "        if graph:\n",
    "            vertex_index = random.randint(0, len(graph) - 1)\n",
    "            vertex_neighbors = graph[vertex_index]\n",
    "\n",
    "            if vertex_neighbors:\n",
    "                C.add(vertex_index)\n",
    "\n",
    "                try:\n",
    "                    neighbors_copy = vertex_neighbors.copy()\n",
    "                    for neighbor in neighbors_copy:\n",
    "                        if neighbor in graph:\n",
    "                            neighbors_copy[neighbor].remove(vertex_index)\n",
    "                except AttributeError:\n",
    "                    for neighbor in vertex_neighbors:\n",
    "                        if neighbor in graph and vertex_index in graph[neighbor]:\n",
    "                            neighbors_copy[neighbor].remove(vertex_index)\n",
    "\n",
    "                graph[vertex_index] = []\n",
    "            else:\n",
    "                del graph[vertex_index]\n",
    "\n",
    "    return C\n",
    "\n",
    "\n",
    "graph = GraphII(5)\n",
    "graph.add_edge(0, 1)\n",
    "graph.add_edge(0, 2)\n",
    "graph.add_edge(1, 3)\n",
    "graph.add_edge(2, 3)\n",
    "graph.add_edge(3, 4)\n",
    "\n",
    "vertex_cover = Approx2(graph)\n",
    "print(\"Approximate MVC:\", vertex_cover)\n"
   ]
  },
  {
   "cell_type": "markdown",
   "metadata": {},
   "source": [
    "## Part 2.3\n",
    "---"
   ]
  },
  {
   "cell_type": "code",
   "execution_count": 21,
   "metadata": {},
   "outputs": [
    {
     "name": "stdout",
     "output_type": "stream",
     "text": [
      "Minimum vertex cover: {0, 1, 2, 3}\n"
     ]
    }
   ],
   "source": [
    "import copy\n",
    "\n",
    "def Approx3(graph):\n",
    "    G = GraphII(len(graph.get_graph()))\n",
    "    for node, edges in enumerate(graph.get_graph()):\n",
    "        for neighbor in edges:\n",
    "            G.add_edge(node, neighbor)\n",
    "\n",
    "    C = set()\n",
    "\n",
    "    while any(G.get_graph()):\n",
    "        while True:  # Loop to handle out-of-range possibilities\n",
    "            try:\n",
    "                u = random.randint(0, len(G.get_graph()) - 1)\n",
    "                if G.get_graph()[u]:\n",
    "                    v = random.choice(G.get_graph()[u])\n",
    "                    break  # Exit inner loop if selections are valid\n",
    "                \n",
    "            except (IndexError, ValueError): \n",
    "                pass  # Ignore if indices invalid or neighbors empty \n",
    "\n",
    "        C.add(u)\n",
    "        C.add(v)\n",
    "\n",
    "        # Robust neighbor modification handling\n",
    "        neighbors_u = G.get_graph()[u].copy() if G.get_graph()[u] else []\n",
    "        neighbors_v = G.get_graph()[v].copy() if G.get_graph()[v] else []\n",
    "\n",
    "        for neighbor in neighbors_u:\n",
    "            if neighbor < len(G.get_graph()) and u in G.get_graph()[neighbor]:\n",
    "                G.get_graph()[neighbor].remove(u)\n",
    "                G.get_graph()[u].remove(neighbor)  # Redundant, but safe  \n",
    "\n",
    "        for neighbor in neighbors_v:\n",
    "            if neighbor < len(G.get_graph()) and v in G.get_graph()[neighbor]:\n",
    "                G.get_graph()[neighbor].remove(v)\n",
    "                G.get_graph()[v].remove(neighbor) \n",
    "\n",
    "    return C\n",
    "\n",
    "\n",
    "graph = GraphII(5)\n",
    "graph.add_edge(0, 1)\n",
    "graph.add_edge(0, 2)\n",
    "graph.add_edge(1, 3)\n",
    "graph.add_edge(2, 3)\n",
    "graph.add_edge(3, 4)\n",
    "\n",
    "min_vertex_cover = Approx3(graph)\n",
    "print(\"Minimum vertex cover:\", min_vertex_cover)"
   ]
  },
  {
   "cell_type": "markdown",
   "metadata": {},
   "source": [
    "## Part 2.4\n",
    "---"
   ]
  },
  {
   "cell_type": "code",
   "execution_count": 22,
   "metadata": {},
   "outputs": [
    {
     "data": {
      "image/png": "[encoded data removed]",
      "text/plain": [
       "<Figure size 432x288 with 1 Axes>"
      ]
     },
     "metadata": {
      "needs_background": "light"
     },
     "output_type": "display_data"
    },
    {
     "data": {
      "image/png": "[encoded data removed]",
      "text/plain": [
       "<Figure size 432x288 with 1 Axes>"
      ]
     },
     "metadata": {
      "needs_background": "light"
     },
     "output_type": "display_data"
    }
   ],
   "source": [
    "# Part 2.4\n",
    "\n",
    "import networkx as nx\n",
    "import random\n",
    "import matplotlib.pyplot as plt\n",
    "\n",
    "\n",
    "def experiment(num_graphs, n, edge_counts):\n",
    "    results = {a: [] for a in ['Approx1', 'Approx2', 'Approx3']}\n",
    "    \n",
    "    for e in edge_counts:\n",
    "        graph = generate_random_graph(n, e)\n",
    "        true_mvc_size = len(MVC(graph))\n",
    "\n",
    "        for res in results:\n",
    "            avg = 0\n",
    "            for _ in range(num_graphs):\n",
    "                cover_size = len(eval(res + '(copy.deepcopy(graph))')) \n",
    "                avg += cover_size / true_mvc_size\n",
    "            results[res].append(avg/num_graphs)\n",
    "    return results\n",
    "\n",
    "def fullexperiment(n):\n",
    "    num_graphs = 1000\n",
    "    edge_counts = [1,5,10,15,20]\n",
    "\n",
    "    results = experiment(num_graphs, n, edge_counts)\n",
    "\n",
    "    for algo, ratios in results.items():\n",
    "        plt.plot(edge_counts, ratios, label=algo)\n",
    "\n",
    "    plt.xlabel(\"Edge Count\")\n",
    "    plt.ylabel(\"Approximation Ratio of Vertex Cover\")\n",
    "    plt.title(\"Performance of Vertex Cover Approximations (node# = \" + str(n) + \")\" )\n",
    "    plt.xticks(tuple(edge_counts), fontsize = 18)\n",
    "    plt.legend()\n",
    "    plt.show()\n",
    "\n",
    "fullexperiment(6)\n",
    "fullexperiment(10)"
   ]
  },
  {
   "cell_type": "code",
   "execution_count": 23,
   "metadata": {},
   "outputs": [
    {
     "data": {
      "image/png": "[encoded data removed]",
      "text/plain": [
       "<Figure size 432x288 with 1 Axes>"
      ]
     },
     "metadata": {
      "needs_background": "light"
     },
     "output_type": "display_data"
    },
    {
     "data": {
      "image/png": "[encoded data removed]",
      "text/plain": [
       "<Figure size 432x288 with 1 Axes>"
      ]
     },
     "metadata": {
      "needs_background": "light"
     },
     "output_type": "display_data"
    }
   ],
   "source": [
    "\n",
    "# Part 2.4 cont.\n",
    "\n",
    "import networkx as nx\n",
    "import random\n",
    "import matplotlib.pyplot as plt\n",
    "\n",
    "\n",
    "def experiment2(num_graphs, e, node_counts):\n",
    "    results = {a: [] for a in ['Approx1', 'Approx2', 'Approx3']}\n",
    "    \n",
    "    for n in node_counts:\n",
    "        graph = generate_random_graph(n, e)\n",
    "        true_mvc_size = len(MVC(graph))\n",
    "\n",
    "        for res in results:\n",
    "            avg = 0\n",
    "            for _ in range(num_graphs):\n",
    "                cover_size = len(eval(res + '(copy.deepcopy(graph))')) \n",
    "                avg += cover_size / true_mvc_size\n",
    "            results[res].append(avg/num_graphs)\n",
    "\n",
    "    return results\n",
    "\n",
    "def fullexperiment(e):\n",
    "    num_graphs = 1000\n",
    "    node_counts = [1,5,10,15,20]\n",
    "\n",
    "    results = experiment(num_graphs, e, node_counts)\n",
    "\n",
    "    for algo, ratios in results.items():\n",
    "        plt.plot(node_counts, ratios, label=algo)\n",
    "\n",
    "    plt.xlabel(\"Node Count\")\n",
    "    plt.ylabel(\"Approximation Ratio of Vertex Cover\")\n",
    "    plt.title(\"Performance of Vertex Cover Approximations (edge# = \" + str(e) + \")\" )\n",
    "    plt.xticks(tuple(node_counts), fontsize = 18)\n",
    "    plt.legend()\n",
    "    plt.show()\n",
    "\n",
    "fullexperiment(6)\n",
    "fullexperiment(10)"
   ]
  },
  {
   "cell_type": "code",
   "execution_count": 24,
   "metadata": {},
   "outputs": [
    {
     "name": "stdout",
     "output_type": "stream",
     "text": [
      "Approx1 Results:\n",
      "2.0\n",
      "[[4], [2, 4], [1, 3, 4], [2], [0, 1, 2]]\n",
      "Approx2 Results:\n",
      "4.0\n",
      "[[1, 3, 4], [0], [], [0], [0]]\n",
      "Approx3 Results:\n",
      "2.0\n",
      "[[1], [0], [], [], []]\n"
     ]
    }
   ],
   "source": [
    "# Part 2.4 cont. cont.\n",
    "\n",
    "def generate_all_graphs(n):\n",
    "    graphs = []\n",
    "    for edges in range(2**(n * (n - 1) // 2)):\n",
    "        graph = GraphII(n)\n",
    "\n",
    "        edge_index = 0\n",
    "        for u in range(n):\n",
    "            for v in range(u + 1, n):\n",
    "                if (edges >> edge_index) & 1:\n",
    "                    graph.add_edge(u, v)\n",
    "                edge_index += 1\n",
    "\n",
    "        graphs.append(graph)\n",
    "\n",
    "    return graphs\n",
    "\n",
    "def worst_case(algo, graphs):\n",
    "    worst_ratio = 0\n",
    "    worst_graph = None\n",
    "    for graph in graphs:\n",
    "        true_mvc_size = len(MVC(graph))\n",
    "        if true_mvc_size == 0:\n",
    "            continue\n",
    "        approx_mvc_size = len(eval(algo + \"(copy.deepcopy(graph))\"))\n",
    "        ratio = approx_mvc_size / true_mvc_size\n",
    "        if (ratio > worst_ratio):\n",
    "            worst_ratio = ratio\n",
    "            worst_graph = graph\n",
    "    return worst_graph, worst_ratio\n",
    "\n",
    "approxnames = ['Approx1', 'Approx2', 'Approx3']\n",
    "for algo in approxnames:\n",
    "    all_graphs = generate_all_graphs(5)\n",
    "    worst_graph, worst_ratio = worst_case(algo, all_graphs)\n",
    "    print(algo + \" Results:\")\n",
    "    print(worst_ratio)\n",
    "    print(worst_graph.get_graph())"
   ]
  },
  {
   "cell_type": "markdown",
   "metadata": {},
   "source": [
    "### Part 2.4 Reflections\n",
    "\n",
    "There is a negative correlation between edges and MVC size ratio over the true MVC. There is also a negative correlation between nodes and MVC size ratio. In general, the approximation improves after increasing node or edge count. Small edge/node counts tend to have high ratios such as 4 or 2. However, Approx1 underestimates the MVC for higher counts, whereas Approx2 and Approx3 tend to overestimate, with Approx2 MVC approximation sizes being closer to the size of the true MVC.\n",
    "\n",
    "The tables above clearly show the average accuracy of MVC approximations, but what about the worst case? Approx1 and Approx3 worst cases are ratio of 2.0, whereas Approx3 worst case is 5.0."
   ]
  },
  {
   "cell_type": "markdown",
   "metadata": {},
   "source": [
    "## Part 2.5\n",
    "---"
   ]
  },
  {
   "cell_type": "code",
   "execution_count": 27,
   "metadata": {},
   "outputs": [
    {
     "name": "stdout",
     "output_type": "stream",
     "text": [
      "Maximum Independent Set: [3, 2]\n"
     ]
    }
   ],
   "source": [
    "# Part 2.5\n",
    "\n",
    "def is_independent_set(G, set):\n",
    "    for n1 in set:\n",
    "        for n2 in set:\n",
    "            if n1 != n2 and G.has_edge(n1, n2):\n",
    "                return False\n",
    "    return True\n",
    "\n",
    "def MIS(G):\n",
    "    vertices = [i for i in range(len(G.get_graph()))]\n",
    "    all_subsets = power_set(vertices)\n",
    "\n",
    "    maxset = set()\n",
    "    for subset in all_subsets:\n",
    "        if is_independent_set(G, subset):\n",
    "            if len(subset) > len(maxset):\n",
    "                maxset = subset \n",
    "\n",
    "    return maxset\n",
    "\n",
    "graph = GraphII(4)\n",
    "graph.add_edge(0, 1)\n",
    "graph.add_edge(1, 2)\n",
    "graph.add_edge(0, 3)\n",
    "\n",
    "max_independent_set = MIS(graph)\n",
    "print(\"Maximum Independent Set:\", max_independent_set)"
   ]
  },
  {
   "cell_type": "markdown",
   "metadata": {},
   "source": [
    "## Part 2.6,7\n",
    "---"
   ]
  },
  {
   "cell_type": "code",
   "execution_count": 28,
   "metadata": {},
   "outputs": [
    {
     "name": "stdout",
     "output_type": "stream",
     "text": [
      "MVC: [3, 2]\n",
      "MIS: [3, 2]\n",
      "2  +  2  =  4\n",
      "MVC: [2, 1]\n",
      "MIS: [4, 3, 0]\n",
      "2  +  3  =  5\n",
      "MVC: [5, 4, 2, 1]\n",
      "MIS: [5, 2]\n",
      "4  +  2  =  6\n",
      "MVC: [6, 5, 3, 2, 0]\n",
      "MIS: [3, 2]\n",
      "5  +  2  =  7\n",
      "MVC: [5, 4, 3, 2]\n",
      "MIS: [7, 6, 1, 0]\n",
      "4  +  4  =  8\n",
      "MVC: [8, 7, 6, 5, 4, 2]\n",
      "MIS: [7, 6, 5]\n",
      "6  +  3  =  9\n",
      "MVC: [2, 1]\n",
      "MIS: [3, 1]\n",
      "2  +  2  =  4\n",
      "MVC: [4, 0]\n",
      "MIS: [4, 2, 1]\n",
      "2  +  3  =  5\n",
      "MVC: [5, 3, 1]\n",
      "MIS: [4, 2, 0]\n",
      "3  +  3  =  6\n",
      "MVC: [5, 3, 1]\n",
      "MIS: [6, 4, 3, 1]\n",
      "3  +  4  =  7\n",
      "MVC: [0]\n",
      "MIS: [7, 6, 5, 4, 3, 2, 1]\n",
      "1  +  7  =  8\n"
     ]
    }
   ],
   "source": [
    "# Part 2.6,2.7\n",
    "\n",
    "import random\n",
    "\n",
    "def randomGraph(graph):\n",
    "    num_nodes = graph.get_size()\n",
    "    \n",
    "    for start in range(num_nodes):\n",
    "        num_edges = random.randint(0, num_nodes - 1)\n",
    "        edges = random.sample(range(num_nodes), num_edges)\n",
    "        \n",
    "        for edge in edges:\n",
    "            if start != edge:\n",
    "                graph.add_edge(start, edge)\n",
    "\n",
    "    return graph\n",
    "\n",
    "for i in range(4,10):\n",
    "    g = randomGraph(GraphII(i))\n",
    "#     print(g.get_graph())\n",
    "    print(\"MVC:\", MVC(g))\n",
    "    print(\"MIS:\", MIS(g))\n",
    "    print(len(MVC(g)) , \" + \", len(MIS(g)) ,\" = \" , len(MVC(g))+len(MIS(g)))\n",
    "    \n",
    "#Some more self-made experiments for me\n",
    "#Experiment 1\n",
    "g1 = GraphII(4)\n",
    "g1.add_edge(0, 1)\n",
    "g1.add_edge(0, 2)\n",
    "g1.add_edge(2, 3)\n",
    "print(\"MVC:\", MVC(g1))\n",
    "print(\"MIS:\", MIS(g1))\n",
    "print(len(MVC(g1)) , \" + \", len(MIS(g1)) ,\" = \" , len(MVC(g1))+len(MIS(g1)))\n",
    "\n",
    "\n",
    "#Experiment 2\n",
    "g2 = GraphII(5)\n",
    "g2.add_edge(0, 1)\n",
    "g2.add_edge(0, 2)\n",
    "g2.add_edge(3, 4)\n",
    "g2.add_edge(0, 4)\n",
    "\n",
    "print(\"MVC:\", MVC(g2))\n",
    "print(\"MIS:\", MIS(g2))\n",
    "print(len(MVC(g2)) , \" + \", len(MIS(g2)) ,\" = \" , len(MVC(g2))+len(MIS(g2)))\n",
    "\n",
    "\n",
    "#Experiment 3\n",
    "g3 = GraphII(6)\n",
    "g3.add_edge(0, 1)\n",
    "g3.add_edge(1, 2)\n",
    "g3.add_edge(2, 3)\n",
    "g3.add_edge(3, 4)\n",
    "g3.add_edge(4, 5)\n",
    "g3.add_edge(5, 0)\n",
    "g3.add_edge(1, 5) \n",
    "\n",
    "print(\"MVC:\", MVC(g3))\n",
    "print(\"MIS:\", MIS(g3))\n",
    "print(len(MVC(g3)) , \" + \", len(MIS(g3)) ,\" = \" , len(MVC(g3))+len(MIS(g3)))\n",
    "\n",
    "\n",
    "#Experiment 4\n",
    "g4 = GraphII(7)\n",
    "g4.add_edge(0, 1)\n",
    "g4.add_edge(1, 2)\n",
    "g4.add_edge(2, 3)\n",
    "g4.add_edge(4, 5)\n",
    "g4.add_edge(5, 6)\n",
    "g4.add_edge(0, 3)\n",
    "\n",
    "print(\"MVC:\", MVC(g4))\n",
    "print(\"MIS:\", MIS(g4))\n",
    "print(len(MVC(g4)) , \" + \", len(MIS(g4)) ,\" = \" , len(MVC(g4))+len(MIS(g4)))\n",
    "\n",
    "\n",
    "#Experiment 5\n",
    "g5 = GraphII(8)\n",
    "g5.add_edge(0, 1)\n",
    "g5.add_edge(0, 2)\n",
    "g5.add_edge(0, 3)\n",
    "g5.add_edge(0, 4)\n",
    "g5.add_edge(0, 5)\n",
    "g5.add_edge(0, 6)\n",
    "g5.add_edge(0, 7)\n",
    "\n",
    "print(\"MVC:\", MVC(g5))\n",
    "print(\"MIS:\", MIS(g5))\n",
    "print(len(MVC(g5)) , \" + \", len(MIS(g5)) ,\" = \" , len(MVC(g5))+len(MIS(g5)))\n",
    "\n"
   ]
  },
  {
   "cell_type": "markdown",
   "metadata": {},
   "source": [
    "---\n",
    "## #Part 2.6\n",
    "\n",
    "I found there is a relationship between MIS and MVS.\n",
    "Summing the size of the MIS and the size of the MVC, the result was always the size of the graph(the number of nodes of the graph). "
   ]
  },
  {
   "cell_type": "markdown",
   "metadata": {},
   "source": [
    "---\n",
    "Part 2.7\n",
    "\n",
    "---"
   ]
  },
  {
   "cell_type": "markdown",
   "metadata": {},
   "source": [
    "\n",
    "\n",
    "### Reflection\n",
    "- Both `MVC(G)` and `MIS(G)` use brute-force approaches to solve their respective problems, which can be inefficient for large graphs due to exponential time complexity.\n",
    "- Empirically, these functions are not suitable for practical use in large-scale graph problems.\n",
    "- Alternative algorithms, such as approximation algorithms or more efficient dynamic programming approaches, are often preferred for finding approximate solutions to MVC and MIS in larger graphs.\n",
    "- Further experiments and analysis could explore the performance trade-offs between brute-force methods and more efficient algorithms for graph problems.\n",
    "\n",
    "THE MVC() function finds all possible subsets of nodes using brute force through is_vertex_cover(). It finds the smallest covert. The MIS() also uses brute force to find all subsets. If finds if any edges between all pairs of nodes. \n",
    "\n",
    "Since both of them use brute force they are inefficient for large scale graphs. To improve these functions we can use a greedy algorithm in which we can implement local optimal choices as provided by greedy properties. \n"
   ]
  },
  {
   "cell_type": "markdown",
   "metadata": {},
   "source": [
    "# Team Contributions\n",
    "---\n",
    "Lynn - 1.3, 1.4, 2.3, 2.6\n",
    "\n",
    "Faizan - 1.5, 1.6, 1.7, 2.2, 2.7\n",
    "\n",
    "Mustafa - 1.1, 1.2, 2.1, 2.4, 2.5"
   ]
  }
 ],
 "metadata": {
  "kernelspec": {
   "display_name": "Python 3 (ipykernel)",
   "language": "python",
   "name": "python3"
  },
  "language_info": {
   "codemirror_mode": {
    "name": "ipython",
    "version": 3
   },
   "file_extension": ".py",
   "mimetype": "text/x-python",
   "name": "python",
   "nbconvert_exporter": "python",
   "pygments_lexer": "ipython3",
   "version": "3.9.12"
  }
 },
 "nbformat": 4,
 "nbformat_minor": 2
}
