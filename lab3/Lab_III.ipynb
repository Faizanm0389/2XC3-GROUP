{
 "cells": [
  {
   "cell_type": "markdown",
   "metadata": {},
   "source": [
    "# Computer Science 2XC3 - Graded Lab II"
   ]
  },
  {
   "cell_type": "markdown",
   "metadata": {},
   "source": [
    "Please refer to the pdf for detailed instructions. The below file contains all the preliminary code you will need to work on the lab. You can copy paste instructions here to create one cohesive lab and organize it that best suits your teams workflow. "
   ]
  },
  {
   "cell_type": "code",
   "execution_count": 22,
   "metadata": {},
   "outputs": [],
   "source": [
    "import random\n",
    "import timeit \n",
    "import matplotlib.pyplot as plt\n",
    "import numpy as np\n",
    "import math\n",
    "from queue import LifoQueue as Stack\n",
    "from queue import Queue\n",
    "import networkx as nx"
   ]
  },
  {
   "cell_type": "code",
   "execution_count": 3,
   "metadata": {},
   "outputs": [],
   "source": [
    "class GraphI:\n",
    "\n",
    "    # using hash map\n",
    "    def __init__(self, edges):\n",
    "        self.graph = {}\n",
    "        for x,y in edges:\n",
    "            if x not in self.graph.keys():\n",
    "                self.graph[x]=[]\n",
    "            self.graph[x].append(y)\n",
    "\n",
    "    def has_edge(self, src, dst):\n",
    "        return src in self.graph[dst]\n",
    "\n",
    "    def get_graph_size(self,):\n",
    "        return len(self.graph)\n",
    "    \n",
    "    def get_graph(self,):\n",
    "        return self.graph\n",
    "\n",
    "    #Modified version of dfs function provided below.\n",
    "    def depth_first_search(self, node, end_point=None):\n",
    "        stack = [node]\n",
    "        graph = self.get_graph()\n",
    "        seen = set()\n",
    "\n",
    "        while len(stack) !=0:\n",
    "            node = stack.pop()\n",
    "            if node not in seen:\n",
    "                seen.add(node)\n",
    "                if node in graph.keys():\n",
    "                    for nn in graph[node]:\n",
    "                        if nn == end_point:\n",
    "                            return True\n",
    "                        stack.append(nn)\n",
    "        return False\n",
    "    \n",
    "    #part 1.3\n",
    "    #directed graph\n",
    "    def has_cycle(self):\n",
    "        marked = set()\n",
    "\n",
    "        for v in self.graph:\n",
    "            if v not in marked:\n",
    "                if self.depth_first_search(v,v):\n",
    "                    return True\n",
    "        return False\n",
    "    #part 1.4\n",
    "    #directed graph\n",
    "    def is_connected(self, src, dst):\n",
    "        return self.depth_first_search(src, dst)"
   ]
  },
  {
   "cell_type": "code",
   "execution_count": 4,
   "metadata": {},
   "outputs": [
    {
     "name": "stdout",
     "output_type": "stream",
     "text": [
      "True\n",
      "True\n"
     ]
    }
   ],
   "source": [
    "#part 1.3 & 1.4 testing\n",
    "g = GraphI([(0, 1), (1, 2), (2,0), (2, 3), (5, 4)])\n",
    "#g = GraphI([(0, 1), (0, 2), (1, 2), (2, 3)])\n",
    "\n",
    "print(g.has_cycle())\n",
    "\n",
    "print(g.is_connected(5,4))"
   ]
  },
  {
   "cell_type": "code",
   "execution_count": 5,
   "metadata": {},
   "outputs": [],
   "source": [
    "class GraphII:\n",
    "\n",
    "    # using adjacency list\n",
    "    def __init__(self, nodes):\n",
    "        self.graph = []\n",
    "        # node numbered 0-1\n",
    "        for node in range(nodes):\n",
    "            self.graph.append([])\n",
    "        \n",
    "    def has_edge(self, src, dst):\n",
    "        return src in self.graph[dst]\n",
    "    \n",
    "    def add_edge(self,src,dst):\n",
    "        if not self.has_edge(src,dst):\n",
    "            self.graph[src].append(dst)\n",
    "            self.graph[dst].append(src)\n",
    "    \n",
    "    def get_graph(self,):\n",
    "        return self.graph\n",
    "    \n",
    "    #part 1.3\n",
    "    #undirected graph\n",
    "    def has_cycle_(self, v, marked, on_path):\n",
    "        marked[v] = True\n",
    "        \n",
    "        for i in self.graph[v]:\n",
    "            if not marked[i]:\n",
    "                if self.has_cycle_(i, marked, v):\n",
    "                    return True\n",
    "            elif on_path != i:\n",
    "                return True\n",
    "        \n",
    "        return False\n",
    "    \n",
    "    def has_cycle(self):\n",
    "        marked = [False] * len(self.graph)\n",
    "        \n",
    "        for w in range(len(self.graph)):\n",
    "            if not marked[w]:\n",
    "                if self.has_cycle_(w, marked, -1):\n",
    "                    return True\n",
    "        \n",
    "        return False\n",
    "    \n",
    "    #part 1.4\n",
    "    #undirected graph\n",
    "    def is_connected_(self, v, connected, marked):\n",
    "        if v == connected:\n",
    "            return True\n",
    "        \n",
    "        marked[v] = True\n",
    "        \n",
    "        for w in self.graph[v]:\n",
    "            if not marked[w]:\n",
    "                if self.is_connected_(w, connected, marked):\n",
    "                    return True\n",
    "        \n",
    "        return False\n",
    "    \n",
    "    def is_connected(self, src, dst):\n",
    "        marked = [False] * len(self.graph)\n",
    "        \n",
    "        return self.is_connected_(src, dst, marked)"
   ]
  },
  {
   "cell_type": "code",
   "execution_count": 6,
   "metadata": {},
   "outputs": [
    {
     "name": "stdout",
     "output_type": "stream",
     "text": [
      "True\n",
      "True\n"
     ]
    }
   ],
   "source": [
    "#part 1.3 & 1.4 testing\n",
    "\n",
    "graph = GraphII(6)\n",
    "#graph.add_edge(0,1)\n",
    "graph.add_edge(1,2)\n",
    "graph.add_edge(1,3)\n",
    "graph.add_edge(2,0)\n",
    "graph.add_edge(2,3)\n",
    "graph.add_edge(3,4)\n",
    "# graph.add_edge(4,5)\n",
    "# graph.add_edge(3,5)\n",
    "print(graph.has_cycle())\n",
    "print(graph.is_connected(4,2))"
   ]
  },
  {
   "cell_type": "code",
   "execution_count": 7,
   "metadata": {},
   "outputs": [
    {
     "name": "stdout",
     "output_type": "stream",
     "text": [
      "[[], [2], [1, 5], [], [], [2, 9], [9], [], [], [5, 6]]\n"
     ]
    }
   ],
   "source": [
    "testgraph = GraphII(10)\n",
    "\n",
    "testgraph.add_edge(1,2)\n",
    "\n",
    "testgraph.add_edge(2,5)\n",
    "\n",
    "testgraph.add_edge(5,9)\n",
    "\n",
    "testgraph.add_edge(9,6)\n",
    "\n",
    "print(testgraph.get_graph())\n"
   ]
  },
  {
   "cell_type": "code",
   "execution_count": 8,
   "metadata": {},
   "outputs": [],
   "source": [
    "def depth_first_search(G,node,end_point=None):\n",
    "    stack = [node]\n",
    "    graph = G.get_graph()\n",
    "    seen=set()\n",
    "\n",
    "    while len(stack) !=0:\n",
    "        node = stack.pop()\n",
    "        # search for neighbours in graph\n",
    "        if node not in seen:\n",
    "            seen.add(node)\n",
    "            print(\"Visited node:\" + str(node))\n",
    "            # if the given node has an edge\n",
    "            if node in graph.keys():\n",
    "                # iterate over edges of node\n",
    "                for nn in graph[node]:\n",
    "\n",
    "                    # limited traversal\n",
    "                    if nn == end_point:\n",
    "                        return True\n",
    "                    # add to stack\n",
    "                    stack.append(nn)"
   ]
  },
  {
   "cell_type": "code",
   "execution_count": 9,
   "metadata": {},
   "outputs": [],
   "source": [
    "#Breadth First Search\n",
    "def breadth_first_search(G, node):\n",
    "    stack = [node]\n",
    "    graph = G.get_graph()\n",
    "    seen=set()\n",
    "\n",
    "    seen.add(node)\n",
    "\n",
    "    while len(stack) > 0:\n",
    "        node = stack[0]\n",
    "        stack = stack[1:]\n",
    "        print(\"Visiting node: \" + str(node))\n",
    "        if node in graph.keys():\n",
    "            for nn in graph[node]:\n",
    "                #if node == node2:\n",
    "                #    return True\n",
    "                if nn not in seen:\n",
    "                    stack.append(nn)\n",
    "                    seen.add(nn)"
   ]
  },
  {
   "cell_type": "code",
   "execution_count": 10,
   "metadata": {},
   "outputs": [],
   "source": [
    "#Use the methods below to determine minimum vertex covers\n",
    "\n",
    "def add_to_each(sets, element):\n",
    "    copy = sets.copy()\n",
    "    for set in copy:\n",
    "        set.append(element)\n",
    "    return copy\n",
    "\n",
    "def power_set(set):\n",
    "    if set == []:\n",
    "        return [[]]\n",
    "    return power_set(set[1:]) + add_to_each(power_set(set[1:]), set[0])\n",
    "\n",
    "def is_vertex_cover(G, C):\n",
    "    for start in G.adj:\n",
    "        for end in G.adj[start]:\n",
    "            if not(start in C or end in C):\n",
    "                return False\n",
    "    return True\n",
    "\n",
    "def MVC(G):\n",
    "    nodes = [i for i in range(G.get_size())]\n",
    "    subsets = power_set(nodes)\n",
    "    min_cover = nodes\n",
    "    for subset in subsets:\n",
    "        if is_vertex_cover(G, subset):\n",
    "            if len(subset) < len(min_cover):\n",
    "                min_cover = subset\n",
    "    return min_cover\n"
   ]
  },
  {
   "cell_type": "code",
   "execution_count": 11,
   "metadata": {},
   "outputs": [
    {
     "name": "stdout",
     "output_type": "stream",
     "text": [
      "[-1, -1, 1, -1, -1, 2, 9, -1, -1, 5]\n"
     ]
    }
   ],
   "source": [
    "# Part 1.1\n",
    "\n",
    "# DFS2\n",
    "\n",
    "# DFS2 Helper\n",
    "def paths_dfs(g: GraphII, s: int):\n",
    "    def dfsp(v):\n",
    "        marked[v] = True\n",
    "\n",
    "        for w in g.graph[v]:\n",
    "            if not marked[w]:\n",
    "                edge_to[w] = v\n",
    "                dfsp(w)\n",
    "    # end dfsp\n",
    "\n",
    "    vcount = len(g.get_graph())\n",
    "    marked = [False] * vcount\n",
    "    edge_to = [-1] * vcount\n",
    "\n",
    "    dfsp(s)\n",
    "\n",
    "    return edge_to\n",
    "\n",
    "def DFS2(g: GraphII, s, v):\n",
    "\n",
    "    edge_to = paths_dfs(g, s)\n",
    "    if edge_to[v] == -1:\n",
    "        return []\n",
    "\n",
    "    p = Stack()     # construct the path backwards\n",
    "    x = v\n",
    "    while x != s:\n",
    "        p.put(x)        # put = push\n",
    "        x = edge_to[x]\n",
    "    p.put(s)            # put = push\n",
    "\n",
    "    path = []       # dump it out into an array\n",
    "    while not p.empty():\n",
    "        path.append(p.get(False))   # get = pop\n",
    "\n",
    "    return path\n",
    "\n",
    "# BFS2\n",
    "\n",
    "# BFS2 Helper\n",
    "def paths_bfs(g: GraphII, s: int):\n",
    "    vcount = len(g.get_graph())\n",
    "    marked = [False] * vcount\n",
    "    edge_to = [-1] * vcount\n",
    "    open = Queue()\n",
    "    count = 0\n",
    "\n",
    "    marked[s] = True\n",
    "    open.put(s)\n",
    "\n",
    "    while not open.empty():\n",
    "        v = open.get(False)\n",
    "        for w in g.graph[v]:\n",
    "            if not marked[w]:\n",
    "                edge_to[w] = v\n",
    "                marked[w] = True\n",
    "                open.put(w)\n",
    "\n",
    "    return edge_to\n",
    "\n",
    "def BFS2(g: GraphII, s, v):\n",
    "    edge_to = paths_bfs(g, s)\n",
    "    if edge_to[v] == -1:\n",
    "        return []\n",
    "\n",
    "    p = Stack()     # construct the path backwards\n",
    "    x = v\n",
    "    while x != s:\n",
    "        p.put(x)        # put = push\n",
    "        x = edge_to[x]\n",
    "    p.put(s)            # put = push\n",
    "\n",
    "    path = []       # dump it out into an array\n",
    "    while not p.empty():\n",
    "        path.append(p.get(False))   # get = pop\n",
    "\n",
    "    return path\n",
    "\n",
    "print(paths_bfs(testgraph,1))\n",
    "# print(DFS2(testgraph, 1,6))\n",
    "# print(BFS2(testgraph, 1,6))"
   ]
  },
  {
   "cell_type": "code",
   "execution_count": 12,
   "metadata": {},
   "outputs": [
    {
     "name": "stdout",
     "output_type": "stream",
     "text": [
      "{2: 1, 5: 2, 6: 9, 9: 5}\n",
      "{2: 1, 5: 2, 6: 9, 9: 5}\n"
     ]
    }
   ],
   "source": [
    "# Part 1.2\n",
    "\n",
    "def BFS3(g: GraphII, s):\n",
    "    outputdict = {}\n",
    "    vcount = len(g.get_graph())\n",
    "    bfsoutput = paths_bfs(g,s)\n",
    "    for i in range(vcount):\n",
    "        if (bfsoutput[i] != -1):\n",
    "            outputdict[i] = bfsoutput[i]\n",
    "    return outputdict\n",
    "\n",
    "def DFS3(g: GraphII, s):\n",
    "    outputdict = {}\n",
    "    vcount = len(g.get_graph())\n",
    "    dfsoutput = paths_dfs(g,s)\n",
    "    for i in range(vcount):\n",
    "        if (dfsoutput[i] != -1):\n",
    "            outputdict[i] = dfsoutput[i]\n",
    "    return outputdict\n",
    "\n",
    "print(BFS3(testgraph,1))\n",
    "print(DFS3(testgraph,1))\n"
   ]
  },
  {
   "cell_type": "markdown",
   "metadata": {},
   "source": [
    "### 1.5 \n"
   ]
  },
  {
   "cell_type": "code",
   "execution_count": 24,
   "metadata": {},
   "outputs": [],
   "source": [
    "import random\n",
    "\n",
    "def generate_random_graph(n, e):\n",
    "    graph = GraphII(n)\n",
    "    for _ in range(e):\n",
    "        node_source = random.randint(0, n-1)\n",
    "        edge_dist = random.randint(0, n-1)\n",
    "        graph.add_edge(node_source, edge_dist)\n",
    "    return graph"
   ]
  },
  {
   "cell_type": "code",
   "execution_count": 25,
   "metadata": {},
   "outputs": [
    {
     "data": {
      "image/png": "[encoded data removed]",
      "text/plain": [
       "<Figure size 640x480 with 1 Axes>"
      ]
     },
     "metadata": {},
     "output_type": "display_data"
    }
   ],
   "source": [
    "import networkx as nx\n",
    "\n",
    "def plot_graph(graph):\n",
    "    G = nx.Graph()\n",
    "    for node, adj in enumerate(graph):\n",
    "        for dst in adj:\n",
    "            G.add_edge(node, dst)\n",
    "    nx.draw(G)\n",
    "    plt.show()\n",
    "\n",
    "\n",
    "random_graph = generate_random_graph(20, 30)\n",
    "\n",
    "plot_graph(random_graph.get_graph())"
   ]
  },
  {
   "cell_type": "markdown",
   "metadata": {},
   "source": [
    "## 1.6\n"
   ]
  },
  {
   "cell_type": "code",
   "execution_count": 26,
   "metadata": {},
   "outputs": [],
   "source": [
    "def count_cycles(n, e, x):\n",
    "    count = 0\n",
    "    for _ in range(x):\n",
    "        random_graph = generate_random_graph(n, e)\n",
    "        if random_graph.has_cycle():\n",
    "            count += 1\n",
    "    percent = (count / x) * 100\n",
    "    return percent\n"
   ]
  },
  {
   "cell_type": "code",
   "execution_count": null,
   "metadata": {},
   "outputs": [
    {
     "data": {
      "image/png": "[encoded data removed]",
      "text/plain": [
       "<Figure size 640x480 with 1 Axes>"
      ]
     },
     "metadata": {},
     "output_type": "display_data"
    }
   ],
   "source": [
    "def experiment(start, end, step, n, e):\n",
    "    percentages = []\n",
    "    for i in range(start, end + 1, step):\n",
    "        percentages.append(count_cycles(i, n, e))\n",
    "    return percentages\n",
    "\n",
    "percentages = experiment(10, 100, 10, 20, 30)\n",
    "\n",
    "# Plotting\n",
    "plt.plot(range(10, 100 + 1, 10), percentages, marker='o')\n",
    "plt.xlabel('Amount of graphs')\n",
    "plt.ylabel('Percentage of Graphs with Cycles')\n",
    "plt.title('Experiment 1.6')\n",
    "plt.show()"
   ]
  },
  {
   "cell_type": "markdown",
   "metadata": {},
   "source": [
    "## 1.7"
   ]
  },
  {
   "cell_type": "code",
   "execution_count": null,
   "metadata": {},
   "outputs": [],
   "source": [
    "def is_connected(graph):\n",
    "    # dfs approach \n",
    "    stack = [0] \n",
    "    visited = set()\n",
    "    \n",
    "    while stack:\n",
    "        node = stack.pop()\n",
    "        if node not in visited:\n",
    "            visited.add(node)\n",
    "            for neighbor in graph.get_graph()[node]:\n",
    "                stack.append(neighbor)\n",
    "    return len(visited) == len(graph.get_graph())\n",
    "\n",
    "def count_connection(n, e, x):\n",
    "    count = 0\n",
    "    for _ in range(x):\n",
    "        g = generate_random_graph(n, e)\n",
    "        if is_connected(g):\n",
    "            count += 1\n",
    "    percent = (count / x) * 100\n",
    "    return percent\n"
   ]
  },
  {
   "cell_type": "code",
   "execution_count": null,
   "metadata": {},
   "outputs": [
    {
     "data": {
      "image/png": "[encoded data removed]",
      "text/plain": [
       "<Figure size 640x480 with 1 Axes>"
      ]
     },
     "metadata": {},
     "output_type": "display_data"
    }
   ],
   "source": [
    "def experimentCountted(start, end, step, n, e):\n",
    "    percentages = []\n",
    "    for x in range(start, end + 1, step):\n",
    "        percentages.append(count_connection(n, e, x))\n",
    "    return percentages\n",
    "\n",
    "percentages = experimentCountted(10, 100, 10, 20, 30)\n",
    "\n",
    "\n",
    "plt.plot(range(10, 100 + 1, 10), percentages, marker='o')\n",
    "plt.xlabel('Amount of graphs')\n",
    "plt.ylabel('Percentage of Graphs with Cycles')\n",
    "plt.title('Experiment 1.6')\n",
    "plt.show()"
   ]
  },
  {
   "cell_type": "markdown",
   "metadata": {},
   "source": [
    "# Reflection \n",
    "\n",
    "### 1.6 Experiment  \n",
    "\n",
    "The 1.6 experiment above compares the perctange of occurence of cycles in graphs over a range. It does the experiment with 10,20,30,40...100 graphs generated and computes the perctanges of which cycles have occured. An obvious trend is present when looking the the plotted graph. As the amount of graphs increase, the percentage of cycles decrease. \n",
    "This may be because the number of edges and number of nodes remains the same throughout the experiment. As the number of graphs increases, the random generated graph needs to compute multiple ways of creating graphs with n nodes and e edges. Since there are only a few possible amount of graphs that can be made with n nodes and e edges, the rest will not include cycles.   \n",
    "\n",
    "An observation to support the findings is expalined below:  \n",
    "\n",
    "When creating 10 graphs, with 20 nodes and 30 edges, the percentages for different test cases were 100%, 90%, 100%. This suggests that there are atleast 10 different ways to create graphs with cycles with 20 nodes and 30 edges.   \n",
    "\n",
    "When creating 100 graphs, with 20 nodes and 30 edges, the percentages for different test cases were 30%, 27% 25%. This suggests that there may be 30 different ways to create graphs with cycles. The number of cycles in this is greater than the number with 10 graphs, percentage wise it is significantly less since it runs out of possible combinations  \n",
    "\n",
    "### 1.7 Experiment  \n",
    "\n",
    "The 1.7 experiment above compares the perctange of occurence of connections in graphs over a range. It does the experiment with 10,20,30,40...100 graphs generated and computes the perctanges of which connections have occured. An obvious trend is present when looking at the plotted graph. As the amount of graphs increase, the percentage of connections remains the constant with the range of 16% to 40%. \n",
    "\n",
    "It is observed that as the amount of graphs increases, the range fluctuations decreases. This suggests that as there are more samples, we can get better results. It can be assumed that with a higher value, we may expect a more accurate range of percentages. \n"
   ]
  },
  {
   "cell_type": "markdown",
   "metadata": {},
   "source": [
    "### Part 2"
   ]
  },
  {
   "cell_type": "code",
   "execution_count": 19,
   "metadata": {},
   "outputs": [
    {
     "name": "stdout",
     "output_type": "stream",
     "text": [
      "Approximate MVC: {0, 3}\n"
     ]
    }
   ],
   "source": [
    "# Part 2.1\n",
    "def Approx1(G):\n",
    "    C = set()\n",
    "    graph = G.get_graph()\n",
    "\n",
    "    while graph: \n",
    "        max_degree = -1\n",
    "        max_vertex = None\n",
    "\n",
    "        for vertex, neighbors in enumerate(graph):\n",
    "            degree = len(neighbors)\n",
    "            if degree > max_degree:\n",
    "                max_degree = degree\n",
    "                max_vertex = vertex\n",
    "\n",
    "        if max_vertex is not None:\n",
    "            C.add(max_vertex)\n",
    "            for neighbor in graph[max_vertex]:\n",
    "                graph[neighbor].remove(max_vertex)\n",
    "            graph[max_vertex] = []\n",
    "\n",
    "            del graph[max_vertex]  \n",
    "\n",
    "    return C\n",
    "\n",
    "graph = GraphII(5)\n",
    "graph.add_edge(0, 1)\n",
    "graph.add_edge(0, 2)\n",
    "graph.add_edge(1, 3)\n",
    "graph.add_edge(2, 3)\n",
    "graph.add_edge(3, 4)\n",
    "\n",
    "vertex_cover = Approx1(graph)\n",
    "print(\"Approximate MVC:\", vertex_cover)"
   ]
  },
  {
   "cell_type": "code",
   "execution_count": 47,
   "metadata": {},
   "outputs": [
    {
     "name": "stdout",
     "output_type": "stream",
     "text": [
      "Approximate MVC: {1, 2, 3, 4}\n"
     ]
    }
   ],
   "source": [
    "import random\n",
    "\n",
    "def Approx2(G):\n",
    "    C = set()\n",
    "    graph = G.get_graph()\n",
    "\n",
    "    while graph:\n",
    "        vertex_index = random.randint(0, len(graph) - 1)\n",
    "        vertex_neighbors = graph[vertex_index]\n",
    "        \n",
    "        if vertex_neighbors:\n",
    "            C.add(vertex_index)\n",
    "           \n",
    "            for neighbor in vertex_neighbors:\n",
    "                graph[neighbor].remove(vertex_index)\n",
    "                graph[vertex_index] = []\n",
    "        else:\n",
    "            del graph[vertex_index]\n",
    "\n",
    "    return C\n",
    "\n",
    "\n",
    "graph = GraphII(5)\n",
    "graph.add_edge(0, 1)\n",
    "graph.add_edge(0, 2)\n",
    "graph.add_edge(1, 3)\n",
    "graph.add_edge(2, 3)\n",
    "graph.add_edge(3, 4)\n",
    "\n",
    "vertex_cover = Approx2(graph)\n",
    "print(\"Approximate MVC:\", vertex_cover)\n"
   ]
  },
  {
   "cell_type": "code",
   "execution_count": 21,
   "metadata": {},
   "outputs": [
    {
     "name": "stdout",
     "output_type": "stream",
     "text": [
      "Minimum vertex cover: {0, 1, 3, 4}\n"
     ]
    }
   ],
   "source": [
    "import copy\n",
    "\n",
    "def Approx3(graph):\n",
    "    G = GraphII(len(graph.get_graph()))\n",
    "    for node, edges in enumerate(graph.get_graph()):\n",
    "        for neighbor in edges:\n",
    "            G.add_edge(node, neighbor)\n",
    "\n",
    "    C = set()\n",
    "\n",
    "    while any(G.get_graph()):\n",
    "        u = random.randint(0, len(G.get_graph()) - 1)\n",
    "        if not G.get_graph()[u]:\n",
    "            continue\n",
    "        v = random.choice(G.get_graph()[u])\n",
    "\n",
    "        C.add(u)\n",
    "        C.add(v)\n",
    "\n",
    "        for neighbor in list(G.get_graph()[u]):\n",
    "            G.get_graph()[neighbor].remove(u)\n",
    "            G.get_graph()[u].remove(neighbor)\n",
    "        for neighbor in list(G.get_graph()[v]):\n",
    "            G.get_graph()[neighbor].remove(v)\n",
    "            G.get_graph()[v].remove(neighbor)\n",
    "\n",
    "    return C\n",
    "\n",
    "graph = GraphII(5)\n",
    "graph.add_edge(0, 1)\n",
    "graph.add_edge(0, 2)\n",
    "graph.add_edge(1, 3)\n",
    "graph.add_edge(2, 3)\n",
    "graph.add_edge(3, 4)\n",
    "\n",
    "min_vertex_cover = Approx3(graph)\n",
    "print(\"Minimum vertex cover:\", min_vertex_cover)"
   ]
  },
  {
   "cell_type": "code",
   "execution_count": 1,
   "metadata": {},
   "outputs": [],
   "source": [
    "# Part 2.4\n",
    "# edge_sizes = [1,5,10,15,20]\n",
    "\n",
    "# for e in edge_sizes:\n",
    "#     mvcsum\n",
    "#     for i in range(100):\n",
    "#         random_graph = generate_random_graph(6, e)"
   ]
  },
  {
   "cell_type": "code",
   "execution_count": 18,
   "metadata": {},
   "outputs": [
    {
     "name": "stdout",
     "output_type": "stream",
     "text": [
      "Maximum Independent Set: [3, 2]\n"
     ]
    }
   ],
   "source": [
    "# Part 2.5\n",
    "\n",
    "def is_independent_set(G, set):\n",
    "    for node1 in set:\n",
    "        for node2 in set:\n",
    "            if node1 != node2 and G.has_edge(node1, node2):\n",
    "                return False\n",
    "    return True\n",
    "\n",
    "def MIS(G):\n",
    "    vertices = [i for i in range(len(G.get_graph()))]\n",
    "    all_subsets = power_set(vertices)\n",
    "\n",
    "    max_independent_set = set()\n",
    "    for subset in all_subsets:\n",
    "        if is_independent_set(G, subset):\n",
    "            if len(subset) > len(max_independent_set):\n",
    "                max_independent_set = subset \n",
    "\n",
    "    return max_independent_set\n",
    "\n",
    "graph = GraphII(4)\n",
    "graph.add_edge(0, 1)\n",
    "graph.add_edge(1, 2)\n",
    "graph.add_edge(0, 3)\n",
    "\n",
    "max_independent_set = MIS(graph)\n",
    "print(\"Maximum Independent Set:\", max_independent_set)"
   ]
  },
  {
   "cell_type": "code",
   "execution_count": null,
   "metadata": {},
   "outputs": [],
   "source": []
  }
 ],
 "metadata": {
  "kernelspec": {
   "display_name": "base",
   "language": "python",
   "name": "python3"
  },
  "language_info": {
   "codemirror_mode": {
    "name": "ipython",
    "version": 3
   },
   "file_extension": ".py",
   "mimetype": "text/x-python",
   "name": "python",
   "nbconvert_exporter": "python",
   "pygments_lexer": "ipython3",
   "version": "3.11.7"
  }
 },
 "nbformat": 4,
 "nbformat_minor": 2
}
